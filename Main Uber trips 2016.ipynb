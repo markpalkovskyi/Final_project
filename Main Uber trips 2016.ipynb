{
 "cells": [
  {
   "cell_type": "code",
   "execution_count": 1,
   "id": "90ec1c0f",
   "metadata": {},
   "outputs": [],
   "source": [
    "import pandas as pd\n",
    "import matplotlib.pyplot as plt\n",
    "%matplotlib inline\n",
    "import seaborn as sns\n",
    "import os\n",
    "import numpy as np"
   ]
  },
  {
   "cell_type": "code",
   "execution_count": 2,
   "id": "45dff16b",
   "metadata": {
    "scrolled": false
   },
   "outputs": [
    {
     "data": {
      "text/html": [
       "<div>\n",
       "<style scoped>\n",
       "    .dataframe tbody tr th:only-of-type {\n",
       "        vertical-align: middle;\n",
       "    }\n",
       "\n",
       "    .dataframe tbody tr th {\n",
       "        vertical-align: top;\n",
       "    }\n",
       "\n",
       "    .dataframe thead th {\n",
       "        text-align: right;\n",
       "    }\n",
       "</style>\n",
       "<table border=\"1\" class=\"dataframe\">\n",
       "  <thead>\n",
       "    <tr style=\"text-align: right;\">\n",
       "      <th></th>\n",
       "      <th>START_DATE</th>\n",
       "      <th>END_DATE</th>\n",
       "      <th>CATEGORY</th>\n",
       "      <th>START</th>\n",
       "      <th>STOP</th>\n",
       "      <th>MILES</th>\n",
       "      <th>PURPOSE</th>\n",
       "      <th>SALARY</th>\n",
       "    </tr>\n",
       "  </thead>\n",
       "  <tbody>\n",
       "    <tr>\n",
       "      <th>0</th>\n",
       "      <td>1/2/16 20:25</td>\n",
       "      <td>1/2/16 20:38</td>\n",
       "      <td>Business</td>\n",
       "      <td>Fort Pierce</td>\n",
       "      <td>Fort Pierce</td>\n",
       "      <td>4.8</td>\n",
       "      <td>Errand/Supplies</td>\n",
       "      <td>$10.32</td>\n",
       "    </tr>\n",
       "    <tr>\n",
       "      <th>1</th>\n",
       "      <td>1/5/16 17:31</td>\n",
       "      <td>1/5/16 17:45</td>\n",
       "      <td>Business</td>\n",
       "      <td>Fort Pierce</td>\n",
       "      <td>Fort Pierce</td>\n",
       "      <td>4.7</td>\n",
       "      <td>Meeting</td>\n",
       "      <td>$10.11</td>\n",
       "    </tr>\n",
       "    <tr>\n",
       "      <th>2</th>\n",
       "      <td>1/6/16 14:42</td>\n",
       "      <td>1/6/16 15:49</td>\n",
       "      <td>Business</td>\n",
       "      <td>Fort Pierce</td>\n",
       "      <td>West Palm Beach</td>\n",
       "      <td>63.7</td>\n",
       "      <td>Customer Visit</td>\n",
       "      <td>$136.96</td>\n",
       "    </tr>\n",
       "    <tr>\n",
       "      <th>3</th>\n",
       "      <td>1/6/16 17:15</td>\n",
       "      <td>1/6/16 17:19</td>\n",
       "      <td>Business</td>\n",
       "      <td>West Palm Beach</td>\n",
       "      <td>West Palm Beach</td>\n",
       "      <td>4.3</td>\n",
       "      <td>Meal/Entertain</td>\n",
       "      <td>$9.25</td>\n",
       "    </tr>\n",
       "    <tr>\n",
       "      <th>4</th>\n",
       "      <td>1/6/16 17:30</td>\n",
       "      <td>1/6/16 17:35</td>\n",
       "      <td>Business</td>\n",
       "      <td>West Palm Beach</td>\n",
       "      <td>Palm Beach</td>\n",
       "      <td>7.1</td>\n",
       "      <td>Meeting</td>\n",
       "      <td>$15.27</td>\n",
       "    </tr>\n",
       "    <tr>\n",
       "      <th>...</th>\n",
       "      <td>...</td>\n",
       "      <td>...</td>\n",
       "      <td>...</td>\n",
       "      <td>...</td>\n",
       "      <td>...</td>\n",
       "      <td>...</td>\n",
       "      <td>...</td>\n",
       "      <td>...</td>\n",
       "    </tr>\n",
       "    <tr>\n",
       "      <th>566</th>\n",
       "      <td>12/30/16 16:45</td>\n",
       "      <td>12/30/16 17:08</td>\n",
       "      <td>Business</td>\n",
       "      <td>Karchi</td>\n",
       "      <td>Karchi</td>\n",
       "      <td>4.6</td>\n",
       "      <td>Meeting</td>\n",
       "      <td>$9.89</td>\n",
       "    </tr>\n",
       "    <tr>\n",
       "      <th>567</th>\n",
       "      <td>12/30/16 23:06</td>\n",
       "      <td>12/30/16 23:10</td>\n",
       "      <td>Business</td>\n",
       "      <td>Karchi</td>\n",
       "      <td>Karchi</td>\n",
       "      <td>0.8</td>\n",
       "      <td>Customer Visit</td>\n",
       "      <td>$1.72</td>\n",
       "    </tr>\n",
       "    <tr>\n",
       "      <th>568</th>\n",
       "      <td>12/31/16 1:07</td>\n",
       "      <td>12/31/16 1:14</td>\n",
       "      <td>Business</td>\n",
       "      <td>Karchi</td>\n",
       "      <td>Karchi</td>\n",
       "      <td>0.7</td>\n",
       "      <td>Meeting</td>\n",
       "      <td>$1.51</td>\n",
       "    </tr>\n",
       "    <tr>\n",
       "      <th>569</th>\n",
       "      <td>12/31/16 21:32</td>\n",
       "      <td>12/31/16 21:50</td>\n",
       "      <td>Business</td>\n",
       "      <td>Katunayake</td>\n",
       "      <td>Gampaha</td>\n",
       "      <td>6.4</td>\n",
       "      <td>Temporary Site</td>\n",
       "      <td>$13.76</td>\n",
       "    </tr>\n",
       "    <tr>\n",
       "      <th>570</th>\n",
       "      <td>12/31/16 22:08</td>\n",
       "      <td>12/31/16 23:51</td>\n",
       "      <td>Business</td>\n",
       "      <td>Gampaha</td>\n",
       "      <td>Ilukwatta</td>\n",
       "      <td>48.2</td>\n",
       "      <td>Temporary Site</td>\n",
       "      <td>$103.63</td>\n",
       "    </tr>\n",
       "  </tbody>\n",
       "</table>\n",
       "<p>571 rows × 8 columns</p>\n",
       "</div>"
      ],
      "text/plain": [
       "         START_DATE        END_DATE  CATEGORY            START  \\\n",
       "0      1/2/16 20:25    1/2/16 20:38  Business      Fort Pierce   \n",
       "1      1/5/16 17:31    1/5/16 17:45  Business      Fort Pierce   \n",
       "2      1/6/16 14:42    1/6/16 15:49  Business      Fort Pierce   \n",
       "3      1/6/16 17:15    1/6/16 17:19  Business  West Palm Beach   \n",
       "4      1/6/16 17:30    1/6/16 17:35  Business  West Palm Beach   \n",
       "..              ...             ...       ...              ...   \n",
       "566  12/30/16 16:45  12/30/16 17:08  Business           Karchi   \n",
       "567  12/30/16 23:06  12/30/16 23:10  Business           Karchi   \n",
       "568   12/31/16 1:07   12/31/16 1:14  Business           Karchi   \n",
       "569  12/31/16 21:32  12/31/16 21:50  Business       Katunayake   \n",
       "570  12/31/16 22:08  12/31/16 23:51  Business          Gampaha   \n",
       "\n",
       "                STOP  MILES          PURPOSE   SALARY  \n",
       "0        Fort Pierce    4.8  Errand/Supplies   $10.32  \n",
       "1        Fort Pierce    4.7          Meeting   $10.11  \n",
       "2    West Palm Beach   63.7   Customer Visit  $136.96  \n",
       "3    West Palm Beach    4.3   Meal/Entertain    $9.25  \n",
       "4         Palm Beach    7.1          Meeting   $15.27  \n",
       "..               ...    ...              ...      ...  \n",
       "566           Karchi    4.6          Meeting    $9.89  \n",
       "567           Karchi    0.8   Customer Visit    $1.72  \n",
       "568           Karchi    0.7          Meeting    $1.51  \n",
       "569          Gampaha    6.4   Temporary Site   $13.76  \n",
       "570        Ilukwatta   48.2   Temporary Site  $103.63  \n",
       "\n",
       "[571 rows x 8 columns]"
      ]
     },
     "execution_count": 2,
     "metadata": {},
     "output_type": "execute_result"
    }
   ],
   "source": [
    "#Updated csv file where missing values in 'Purpose' column got deleted.\n",
    "uber_df = pd.read_csv(\"Uber_trips_2016.csv\", low_memory=False)\n",
    "uber_df"
   ]
  },
  {
   "cell_type": "code",
   "execution_count": 3,
   "id": "ba3ab9d4",
   "metadata": {},
   "outputs": [],
   "source": [
    "from datetime import datetime"
   ]
  },
  {
   "cell_type": "code",
   "execution_count": 4,
   "id": "74090328",
   "metadata": {},
   "outputs": [
    {
     "data": {
      "text/html": [
       "<div>\n",
       "<style scoped>\n",
       "    .dataframe tbody tr th:only-of-type {\n",
       "        vertical-align: middle;\n",
       "    }\n",
       "\n",
       "    .dataframe tbody tr th {\n",
       "        vertical-align: top;\n",
       "    }\n",
       "\n",
       "    .dataframe thead th {\n",
       "        text-align: right;\n",
       "    }\n",
       "</style>\n",
       "<table border=\"1\" class=\"dataframe\">\n",
       "  <thead>\n",
       "    <tr style=\"text-align: right;\">\n",
       "      <th></th>\n",
       "      <th>START_DATE</th>\n",
       "      <th>END_DATE</th>\n",
       "      <th>CATEGORY</th>\n",
       "      <th>START</th>\n",
       "      <th>STOP</th>\n",
       "      <th>MILES</th>\n",
       "      <th>PURPOSE</th>\n",
       "      <th>SALARY</th>\n",
       "    </tr>\n",
       "  </thead>\n",
       "  <tbody>\n",
       "    <tr>\n",
       "      <th>0</th>\n",
       "      <td>2016-01-02 20:25:00</td>\n",
       "      <td>2016-01-02 20:38:00</td>\n",
       "      <td>Business</td>\n",
       "      <td>Fort Pierce</td>\n",
       "      <td>Fort Pierce</td>\n",
       "      <td>4.8</td>\n",
       "      <td>Errand/Supplies</td>\n",
       "      <td>$10.32</td>\n",
       "    </tr>\n",
       "    <tr>\n",
       "      <th>1</th>\n",
       "      <td>2016-01-05 17:31:00</td>\n",
       "      <td>2016-01-05 17:45:00</td>\n",
       "      <td>Business</td>\n",
       "      <td>Fort Pierce</td>\n",
       "      <td>Fort Pierce</td>\n",
       "      <td>4.7</td>\n",
       "      <td>Meeting</td>\n",
       "      <td>$10.11</td>\n",
       "    </tr>\n",
       "    <tr>\n",
       "      <th>2</th>\n",
       "      <td>2016-01-06 14:42:00</td>\n",
       "      <td>2016-01-06 15:49:00</td>\n",
       "      <td>Business</td>\n",
       "      <td>Fort Pierce</td>\n",
       "      <td>West Palm Beach</td>\n",
       "      <td>63.7</td>\n",
       "      <td>Customer Visit</td>\n",
       "      <td>$136.96</td>\n",
       "    </tr>\n",
       "    <tr>\n",
       "      <th>3</th>\n",
       "      <td>2016-01-06 17:15:00</td>\n",
       "      <td>2016-01-06 17:19:00</td>\n",
       "      <td>Business</td>\n",
       "      <td>West Palm Beach</td>\n",
       "      <td>West Palm Beach</td>\n",
       "      <td>4.3</td>\n",
       "      <td>Meal/Entertain</td>\n",
       "      <td>$9.25</td>\n",
       "    </tr>\n",
       "    <tr>\n",
       "      <th>4</th>\n",
       "      <td>2016-01-06 17:30:00</td>\n",
       "      <td>2016-01-06 17:35:00</td>\n",
       "      <td>Business</td>\n",
       "      <td>West Palm Beach</td>\n",
       "      <td>Palm Beach</td>\n",
       "      <td>7.1</td>\n",
       "      <td>Meeting</td>\n",
       "      <td>$15.27</td>\n",
       "    </tr>\n",
       "    <tr>\n",
       "      <th>...</th>\n",
       "      <td>...</td>\n",
       "      <td>...</td>\n",
       "      <td>...</td>\n",
       "      <td>...</td>\n",
       "      <td>...</td>\n",
       "      <td>...</td>\n",
       "      <td>...</td>\n",
       "      <td>...</td>\n",
       "    </tr>\n",
       "    <tr>\n",
       "      <th>566</th>\n",
       "      <td>2016-12-30 16:45:00</td>\n",
       "      <td>2016-12-30 17:08:00</td>\n",
       "      <td>Business</td>\n",
       "      <td>Karchi</td>\n",
       "      <td>Karchi</td>\n",
       "      <td>4.6</td>\n",
       "      <td>Meeting</td>\n",
       "      <td>$9.89</td>\n",
       "    </tr>\n",
       "    <tr>\n",
       "      <th>567</th>\n",
       "      <td>2016-12-30 23:06:00</td>\n",
       "      <td>2016-12-30 23:10:00</td>\n",
       "      <td>Business</td>\n",
       "      <td>Karchi</td>\n",
       "      <td>Karchi</td>\n",
       "      <td>0.8</td>\n",
       "      <td>Customer Visit</td>\n",
       "      <td>$1.72</td>\n",
       "    </tr>\n",
       "    <tr>\n",
       "      <th>568</th>\n",
       "      <td>2016-12-31 01:07:00</td>\n",
       "      <td>2016-12-31 01:14:00</td>\n",
       "      <td>Business</td>\n",
       "      <td>Karchi</td>\n",
       "      <td>Karchi</td>\n",
       "      <td>0.7</td>\n",
       "      <td>Meeting</td>\n",
       "      <td>$1.51</td>\n",
       "    </tr>\n",
       "    <tr>\n",
       "      <th>569</th>\n",
       "      <td>2016-12-31 21:32:00</td>\n",
       "      <td>2016-12-31 21:50:00</td>\n",
       "      <td>Business</td>\n",
       "      <td>Katunayake</td>\n",
       "      <td>Gampaha</td>\n",
       "      <td>6.4</td>\n",
       "      <td>Temporary Site</td>\n",
       "      <td>$13.76</td>\n",
       "    </tr>\n",
       "    <tr>\n",
       "      <th>570</th>\n",
       "      <td>2016-12-31 22:08:00</td>\n",
       "      <td>2016-12-31 23:51:00</td>\n",
       "      <td>Business</td>\n",
       "      <td>Gampaha</td>\n",
       "      <td>Ilukwatta</td>\n",
       "      <td>48.2</td>\n",
       "      <td>Temporary Site</td>\n",
       "      <td>$103.63</td>\n",
       "    </tr>\n",
       "  </tbody>\n",
       "</table>\n",
       "<p>571 rows × 8 columns</p>\n",
       "</div>"
      ],
      "text/plain": [
       "             START_DATE            END_DATE  CATEGORY            START  \\\n",
       "0   2016-01-02 20:25:00 2016-01-02 20:38:00  Business      Fort Pierce   \n",
       "1   2016-01-05 17:31:00 2016-01-05 17:45:00  Business      Fort Pierce   \n",
       "2   2016-01-06 14:42:00 2016-01-06 15:49:00  Business      Fort Pierce   \n",
       "3   2016-01-06 17:15:00 2016-01-06 17:19:00  Business  West Palm Beach   \n",
       "4   2016-01-06 17:30:00 2016-01-06 17:35:00  Business  West Palm Beach   \n",
       "..                  ...                 ...       ...              ...   \n",
       "566 2016-12-30 16:45:00 2016-12-30 17:08:00  Business           Karchi   \n",
       "567 2016-12-30 23:06:00 2016-12-30 23:10:00  Business           Karchi   \n",
       "568 2016-12-31 01:07:00 2016-12-31 01:14:00  Business           Karchi   \n",
       "569 2016-12-31 21:32:00 2016-12-31 21:50:00  Business       Katunayake   \n",
       "570 2016-12-31 22:08:00 2016-12-31 23:51:00  Business          Gampaha   \n",
       "\n",
       "                STOP  MILES          PURPOSE   SALARY  \n",
       "0        Fort Pierce    4.8  Errand/Supplies   $10.32  \n",
       "1        Fort Pierce    4.7          Meeting   $10.11  \n",
       "2    West Palm Beach   63.7   Customer Visit  $136.96  \n",
       "3    West Palm Beach    4.3   Meal/Entertain    $9.25  \n",
       "4         Palm Beach    7.1          Meeting   $15.27  \n",
       "..               ...    ...              ...      ...  \n",
       "566           Karchi    4.6          Meeting    $9.89  \n",
       "567           Karchi    0.8   Customer Visit    $1.72  \n",
       "568           Karchi    0.7          Meeting    $1.51  \n",
       "569          Gampaha    6.4   Temporary Site   $13.76  \n",
       "570        Ilukwatta   48.2   Temporary Site  $103.63  \n",
       "\n",
       "[571 rows x 8 columns]"
      ]
     },
     "execution_count": 4,
     "metadata": {},
     "output_type": "execute_result"
    }
   ],
   "source": [
    "uber_df['START_DATE'] = pd.to_datetime(uber_df['START_DATE'], format = '%m/%d/%y %H:%M')\n",
    "uber_df['END_DATE'] = pd.to_datetime(uber_df['END_DATE'], format = '%m/%d/%y %H:%M')\n",
    "\n",
    "uber_df"
   ]
  },
  {
   "cell_type": "code",
   "execution_count": 5,
   "id": "6d6141b7",
   "metadata": {},
   "outputs": [],
   "source": [
    "uber_df['MONTH'] = uber_df['START_DATE'].apply(lambda time: time.month)\n",
    "uber_df['DAY_OF_THE_WEEK'] = uber_df['START_DATE'].apply(lambda time: time.dayofweek)"
   ]
  },
  {
   "cell_type": "code",
   "execution_count": 6,
   "id": "8c7c895a",
   "metadata": {},
   "outputs": [
    {
     "data": {
      "text/plain": [
       "0      Jan\n",
       "1      Jan\n",
       "2      Jan\n",
       "3      Jan\n",
       "4      Jan\n",
       "      ... \n",
       "566    Dec\n",
       "567    Dec\n",
       "568    Dec\n",
       "569    Dec\n",
       "570    Dec\n",
       "Name: MONTH, Length: 571, dtype: object"
      ]
     },
     "execution_count": 6,
     "metadata": {},
     "output_type": "execute_result"
    }
   ],
   "source": [
    "mmap = {1:'Jan', 2:'Feb',3:'Mar', 4:'Apr',5:'May',6:'June',7:'July', 8:'Aug', 9:'Sep',10:'Oct',11:'Nov',12:'Dec'}\n",
    "uber_df['MONTH'] = uber_df['MONTH'].map(mmap)\n",
    "uber_df['MONTH']"
   ]
  },
  {
   "cell_type": "code",
   "execution_count": 7,
   "id": "9e94f556",
   "metadata": {},
   "outputs": [
    {
     "data": {
      "text/html": [
       "<div>\n",
       "<style scoped>\n",
       "    .dataframe tbody tr th:only-of-type {\n",
       "        vertical-align: middle;\n",
       "    }\n",
       "\n",
       "    .dataframe tbody tr th {\n",
       "        vertical-align: top;\n",
       "    }\n",
       "\n",
       "    .dataframe thead th {\n",
       "        text-align: right;\n",
       "    }\n",
       "</style>\n",
       "<table border=\"1\" class=\"dataframe\">\n",
       "  <thead>\n",
       "    <tr style=\"text-align: right;\">\n",
       "      <th></th>\n",
       "      <th>START_DATE</th>\n",
       "      <th>END_DATE</th>\n",
       "      <th>CATEGORY</th>\n",
       "      <th>START</th>\n",
       "      <th>STOP</th>\n",
       "      <th>MILES</th>\n",
       "      <th>PURPOSE</th>\n",
       "      <th>SALARY</th>\n",
       "      <th>MONTH</th>\n",
       "      <th>DAY_OF_THE_WEEK</th>\n",
       "    </tr>\n",
       "  </thead>\n",
       "  <tbody>\n",
       "    <tr>\n",
       "      <th>0</th>\n",
       "      <td>2016-01-02 20:25:00</td>\n",
       "      <td>2016-01-02 20:38:00</td>\n",
       "      <td>Business</td>\n",
       "      <td>Fort Pierce</td>\n",
       "      <td>Fort Pierce</td>\n",
       "      <td>4.8</td>\n",
       "      <td>Errand/Supplies</td>\n",
       "      <td>$10.32</td>\n",
       "      <td>Jan</td>\n",
       "      <td>Sat</td>\n",
       "    </tr>\n",
       "    <tr>\n",
       "      <th>1</th>\n",
       "      <td>2016-01-05 17:31:00</td>\n",
       "      <td>2016-01-05 17:45:00</td>\n",
       "      <td>Business</td>\n",
       "      <td>Fort Pierce</td>\n",
       "      <td>Fort Pierce</td>\n",
       "      <td>4.7</td>\n",
       "      <td>Meeting</td>\n",
       "      <td>$10.11</td>\n",
       "      <td>Jan</td>\n",
       "      <td>Tues</td>\n",
       "    </tr>\n",
       "    <tr>\n",
       "      <th>2</th>\n",
       "      <td>2016-01-06 14:42:00</td>\n",
       "      <td>2016-01-06 15:49:00</td>\n",
       "      <td>Business</td>\n",
       "      <td>Fort Pierce</td>\n",
       "      <td>West Palm Beach</td>\n",
       "      <td>63.7</td>\n",
       "      <td>Customer Visit</td>\n",
       "      <td>$136.96</td>\n",
       "      <td>Jan</td>\n",
       "      <td>Wed</td>\n",
       "    </tr>\n",
       "    <tr>\n",
       "      <th>3</th>\n",
       "      <td>2016-01-06 17:15:00</td>\n",
       "      <td>2016-01-06 17:19:00</td>\n",
       "      <td>Business</td>\n",
       "      <td>West Palm Beach</td>\n",
       "      <td>West Palm Beach</td>\n",
       "      <td>4.3</td>\n",
       "      <td>Meal/Entertain</td>\n",
       "      <td>$9.25</td>\n",
       "      <td>Jan</td>\n",
       "      <td>Wed</td>\n",
       "    </tr>\n",
       "    <tr>\n",
       "      <th>4</th>\n",
       "      <td>2016-01-06 17:30:00</td>\n",
       "      <td>2016-01-06 17:35:00</td>\n",
       "      <td>Business</td>\n",
       "      <td>West Palm Beach</td>\n",
       "      <td>Palm Beach</td>\n",
       "      <td>7.1</td>\n",
       "      <td>Meeting</td>\n",
       "      <td>$15.27</td>\n",
       "      <td>Jan</td>\n",
       "      <td>Wed</td>\n",
       "    </tr>\n",
       "    <tr>\n",
       "      <th>...</th>\n",
       "      <td>...</td>\n",
       "      <td>...</td>\n",
       "      <td>...</td>\n",
       "      <td>...</td>\n",
       "      <td>...</td>\n",
       "      <td>...</td>\n",
       "      <td>...</td>\n",
       "      <td>...</td>\n",
       "      <td>...</td>\n",
       "      <td>...</td>\n",
       "    </tr>\n",
       "    <tr>\n",
       "      <th>566</th>\n",
       "      <td>2016-12-30 16:45:00</td>\n",
       "      <td>2016-12-30 17:08:00</td>\n",
       "      <td>Business</td>\n",
       "      <td>Karchi</td>\n",
       "      <td>Karchi</td>\n",
       "      <td>4.6</td>\n",
       "      <td>Meeting</td>\n",
       "      <td>$9.89</td>\n",
       "      <td>Dec</td>\n",
       "      <td>Fri</td>\n",
       "    </tr>\n",
       "    <tr>\n",
       "      <th>567</th>\n",
       "      <td>2016-12-30 23:06:00</td>\n",
       "      <td>2016-12-30 23:10:00</td>\n",
       "      <td>Business</td>\n",
       "      <td>Karchi</td>\n",
       "      <td>Karchi</td>\n",
       "      <td>0.8</td>\n",
       "      <td>Customer Visit</td>\n",
       "      <td>$1.72</td>\n",
       "      <td>Dec</td>\n",
       "      <td>Fri</td>\n",
       "    </tr>\n",
       "    <tr>\n",
       "      <th>568</th>\n",
       "      <td>2016-12-31 01:07:00</td>\n",
       "      <td>2016-12-31 01:14:00</td>\n",
       "      <td>Business</td>\n",
       "      <td>Karchi</td>\n",
       "      <td>Karchi</td>\n",
       "      <td>0.7</td>\n",
       "      <td>Meeting</td>\n",
       "      <td>$1.51</td>\n",
       "      <td>Dec</td>\n",
       "      <td>Sat</td>\n",
       "    </tr>\n",
       "    <tr>\n",
       "      <th>569</th>\n",
       "      <td>2016-12-31 21:32:00</td>\n",
       "      <td>2016-12-31 21:50:00</td>\n",
       "      <td>Business</td>\n",
       "      <td>Katunayake</td>\n",
       "      <td>Gampaha</td>\n",
       "      <td>6.4</td>\n",
       "      <td>Temporary Site</td>\n",
       "      <td>$13.76</td>\n",
       "      <td>Dec</td>\n",
       "      <td>Sat</td>\n",
       "    </tr>\n",
       "    <tr>\n",
       "      <th>570</th>\n",
       "      <td>2016-12-31 22:08:00</td>\n",
       "      <td>2016-12-31 23:51:00</td>\n",
       "      <td>Business</td>\n",
       "      <td>Gampaha</td>\n",
       "      <td>Ilukwatta</td>\n",
       "      <td>48.2</td>\n",
       "      <td>Temporary Site</td>\n",
       "      <td>$103.63</td>\n",
       "      <td>Dec</td>\n",
       "      <td>Sat</td>\n",
       "    </tr>\n",
       "  </tbody>\n",
       "</table>\n",
       "<p>571 rows × 10 columns</p>\n",
       "</div>"
      ],
      "text/plain": [
       "             START_DATE            END_DATE  CATEGORY            START  \\\n",
       "0   2016-01-02 20:25:00 2016-01-02 20:38:00  Business      Fort Pierce   \n",
       "1   2016-01-05 17:31:00 2016-01-05 17:45:00  Business      Fort Pierce   \n",
       "2   2016-01-06 14:42:00 2016-01-06 15:49:00  Business      Fort Pierce   \n",
       "3   2016-01-06 17:15:00 2016-01-06 17:19:00  Business  West Palm Beach   \n",
       "4   2016-01-06 17:30:00 2016-01-06 17:35:00  Business  West Palm Beach   \n",
       "..                  ...                 ...       ...              ...   \n",
       "566 2016-12-30 16:45:00 2016-12-30 17:08:00  Business           Karchi   \n",
       "567 2016-12-30 23:06:00 2016-12-30 23:10:00  Business           Karchi   \n",
       "568 2016-12-31 01:07:00 2016-12-31 01:14:00  Business           Karchi   \n",
       "569 2016-12-31 21:32:00 2016-12-31 21:50:00  Business       Katunayake   \n",
       "570 2016-12-31 22:08:00 2016-12-31 23:51:00  Business          Gampaha   \n",
       "\n",
       "                STOP  MILES          PURPOSE   SALARY MONTH DAY_OF_THE_WEEK  \n",
       "0        Fort Pierce    4.8  Errand/Supplies   $10.32   Jan             Sat  \n",
       "1        Fort Pierce    4.7          Meeting   $10.11   Jan            Tues  \n",
       "2    West Palm Beach   63.7   Customer Visit  $136.96   Jan             Wed  \n",
       "3    West Palm Beach    4.3   Meal/Entertain    $9.25   Jan             Wed  \n",
       "4         Palm Beach    7.1          Meeting   $15.27   Jan             Wed  \n",
       "..               ...    ...              ...      ...   ...             ...  \n",
       "566           Karchi    4.6          Meeting    $9.89   Dec             Fri  \n",
       "567           Karchi    0.8   Customer Visit    $1.72   Dec             Fri  \n",
       "568           Karchi    0.7          Meeting    $1.51   Dec             Sat  \n",
       "569          Gampaha    6.4   Temporary Site   $13.76   Dec             Sat  \n",
       "570        Ilukwatta   48.2   Temporary Site  $103.63   Dec             Sat  \n",
       "\n",
       "[571 rows x 10 columns]"
      ]
     },
     "execution_count": 7,
     "metadata": {},
     "output_type": "execute_result"
    }
   ],
   "source": [
    "uber_df['DAY_OF_THE_WEEK'] = uber_df.START_DATE.dt.weekday\n",
    "day_label = {\n",
    "    0: 'Mon', 1: 'Tues', 2: 'Wed', 3: 'Thus', 4: 'Fri', 5: 'Sat', 6: 'Sun'\n",
    "}\n",
    "uber_df['DAY_OF_THE_WEEK'] = uber_df['DAY_OF_THE_WEEK'].map(day_label)\n",
    "uber_df"
   ]
  },
  {
   "cell_type": "code",
   "execution_count": 8,
   "id": "869cf07f",
   "metadata": {},
   "outputs": [
    {
     "data": {
      "text/plain": [
       "START_DATE          datetime64[ns]\n",
       "END_DATE            datetime64[ns]\n",
       "CATEGORY                    object\n",
       "START                       object\n",
       "STOP                        object\n",
       "MILES                      float64\n",
       "PURPOSE                     object\n",
       "SALARY                      object\n",
       "MONTH                       object\n",
       "DAY_OF_THE_WEEK             object\n",
       "DURATION           timedelta64[ns]\n",
       "dtype: object"
      ]
     },
     "execution_count": 8,
     "metadata": {},
     "output_type": "execute_result"
    }
   ],
   "source": [
    "#Calculating duration of each ride\n",
    "uber_df['DURATION'] = uber_df['END_DATE'] - uber_df['START_DATE']\n",
    "uber_df.dtypes"
   ]
  },
  {
   "cell_type": "code",
   "execution_count": 9,
   "id": "e8fe30dd",
   "metadata": {},
   "outputs": [
    {
     "data": {
      "text/html": [
       "<div>\n",
       "<style scoped>\n",
       "    .dataframe tbody tr th:only-of-type {\n",
       "        vertical-align: middle;\n",
       "    }\n",
       "\n",
       "    .dataframe tbody tr th {\n",
       "        vertical-align: top;\n",
       "    }\n",
       "\n",
       "    .dataframe thead th {\n",
       "        text-align: right;\n",
       "    }\n",
       "</style>\n",
       "<table border=\"1\" class=\"dataframe\">\n",
       "  <thead>\n",
       "    <tr style=\"text-align: right;\">\n",
       "      <th></th>\n",
       "      <th>START_DATE</th>\n",
       "      <th>END_DATE</th>\n",
       "      <th>CATEGORY</th>\n",
       "      <th>START</th>\n",
       "      <th>STOP</th>\n",
       "      <th>MILES</th>\n",
       "      <th>PURPOSE</th>\n",
       "      <th>SALARY</th>\n",
       "      <th>MONTH</th>\n",
       "      <th>DAY_OF_THE_WEEK</th>\n",
       "      <th>DURATION</th>\n",
       "    </tr>\n",
       "  </thead>\n",
       "  <tbody>\n",
       "    <tr>\n",
       "      <th>0</th>\n",
       "      <td>2016-01-02 20:25:00</td>\n",
       "      <td>2016-01-02 20:38:00</td>\n",
       "      <td>Business</td>\n",
       "      <td>Fort Pierce</td>\n",
       "      <td>Fort Pierce</td>\n",
       "      <td>4.8</td>\n",
       "      <td>Errand/Supplies</td>\n",
       "      <td>$10.32</td>\n",
       "      <td>Jan</td>\n",
       "      <td>Sat</td>\n",
       "      <td>0 days 00:13:00</td>\n",
       "    </tr>\n",
       "    <tr>\n",
       "      <th>1</th>\n",
       "      <td>2016-01-05 17:31:00</td>\n",
       "      <td>2016-01-05 17:45:00</td>\n",
       "      <td>Business</td>\n",
       "      <td>Fort Pierce</td>\n",
       "      <td>Fort Pierce</td>\n",
       "      <td>4.7</td>\n",
       "      <td>Meeting</td>\n",
       "      <td>$10.11</td>\n",
       "      <td>Jan</td>\n",
       "      <td>Tues</td>\n",
       "      <td>0 days 00:14:00</td>\n",
       "    </tr>\n",
       "    <tr>\n",
       "      <th>2</th>\n",
       "      <td>2016-01-06 14:42:00</td>\n",
       "      <td>2016-01-06 15:49:00</td>\n",
       "      <td>Business</td>\n",
       "      <td>Fort Pierce</td>\n",
       "      <td>West Palm Beach</td>\n",
       "      <td>63.7</td>\n",
       "      <td>Customer Visit</td>\n",
       "      <td>$136.96</td>\n",
       "      <td>Jan</td>\n",
       "      <td>Wed</td>\n",
       "      <td>0 days 01:07:00</td>\n",
       "    </tr>\n",
       "    <tr>\n",
       "      <th>3</th>\n",
       "      <td>2016-01-06 17:15:00</td>\n",
       "      <td>2016-01-06 17:19:00</td>\n",
       "      <td>Business</td>\n",
       "      <td>West Palm Beach</td>\n",
       "      <td>West Palm Beach</td>\n",
       "      <td>4.3</td>\n",
       "      <td>Meal/Entertain</td>\n",
       "      <td>$9.25</td>\n",
       "      <td>Jan</td>\n",
       "      <td>Wed</td>\n",
       "      <td>0 days 00:04:00</td>\n",
       "    </tr>\n",
       "    <tr>\n",
       "      <th>4</th>\n",
       "      <td>2016-01-06 17:30:00</td>\n",
       "      <td>2016-01-06 17:35:00</td>\n",
       "      <td>Business</td>\n",
       "      <td>West Palm Beach</td>\n",
       "      <td>Palm Beach</td>\n",
       "      <td>7.1</td>\n",
       "      <td>Meeting</td>\n",
       "      <td>$15.27</td>\n",
       "      <td>Jan</td>\n",
       "      <td>Wed</td>\n",
       "      <td>0 days 00:05:00</td>\n",
       "    </tr>\n",
       "    <tr>\n",
       "      <th>...</th>\n",
       "      <td>...</td>\n",
       "      <td>...</td>\n",
       "      <td>...</td>\n",
       "      <td>...</td>\n",
       "      <td>...</td>\n",
       "      <td>...</td>\n",
       "      <td>...</td>\n",
       "      <td>...</td>\n",
       "      <td>...</td>\n",
       "      <td>...</td>\n",
       "      <td>...</td>\n",
       "    </tr>\n",
       "    <tr>\n",
       "      <th>566</th>\n",
       "      <td>2016-12-30 16:45:00</td>\n",
       "      <td>2016-12-30 17:08:00</td>\n",
       "      <td>Business</td>\n",
       "      <td>Karchi</td>\n",
       "      <td>Karchi</td>\n",
       "      <td>4.6</td>\n",
       "      <td>Meeting</td>\n",
       "      <td>$9.89</td>\n",
       "      <td>Dec</td>\n",
       "      <td>Fri</td>\n",
       "      <td>0 days 00:23:00</td>\n",
       "    </tr>\n",
       "    <tr>\n",
       "      <th>567</th>\n",
       "      <td>2016-12-30 23:06:00</td>\n",
       "      <td>2016-12-30 23:10:00</td>\n",
       "      <td>Business</td>\n",
       "      <td>Karchi</td>\n",
       "      <td>Karchi</td>\n",
       "      <td>0.8</td>\n",
       "      <td>Customer Visit</td>\n",
       "      <td>$1.72</td>\n",
       "      <td>Dec</td>\n",
       "      <td>Fri</td>\n",
       "      <td>0 days 00:04:00</td>\n",
       "    </tr>\n",
       "    <tr>\n",
       "      <th>568</th>\n",
       "      <td>2016-12-31 01:07:00</td>\n",
       "      <td>2016-12-31 01:14:00</td>\n",
       "      <td>Business</td>\n",
       "      <td>Karchi</td>\n",
       "      <td>Karchi</td>\n",
       "      <td>0.7</td>\n",
       "      <td>Meeting</td>\n",
       "      <td>$1.51</td>\n",
       "      <td>Dec</td>\n",
       "      <td>Sat</td>\n",
       "      <td>0 days 00:07:00</td>\n",
       "    </tr>\n",
       "    <tr>\n",
       "      <th>569</th>\n",
       "      <td>2016-12-31 21:32:00</td>\n",
       "      <td>2016-12-31 21:50:00</td>\n",
       "      <td>Business</td>\n",
       "      <td>Katunayake</td>\n",
       "      <td>Gampaha</td>\n",
       "      <td>6.4</td>\n",
       "      <td>Temporary Site</td>\n",
       "      <td>$13.76</td>\n",
       "      <td>Dec</td>\n",
       "      <td>Sat</td>\n",
       "      <td>0 days 00:18:00</td>\n",
       "    </tr>\n",
       "    <tr>\n",
       "      <th>570</th>\n",
       "      <td>2016-12-31 22:08:00</td>\n",
       "      <td>2016-12-31 23:51:00</td>\n",
       "      <td>Business</td>\n",
       "      <td>Gampaha</td>\n",
       "      <td>Ilukwatta</td>\n",
       "      <td>48.2</td>\n",
       "      <td>Temporary Site</td>\n",
       "      <td>$103.63</td>\n",
       "      <td>Dec</td>\n",
       "      <td>Sat</td>\n",
       "      <td>0 days 01:43:00</td>\n",
       "    </tr>\n",
       "  </tbody>\n",
       "</table>\n",
       "<p>571 rows × 11 columns</p>\n",
       "</div>"
      ],
      "text/plain": [
       "             START_DATE            END_DATE  CATEGORY            START  \\\n",
       "0   2016-01-02 20:25:00 2016-01-02 20:38:00  Business      Fort Pierce   \n",
       "1   2016-01-05 17:31:00 2016-01-05 17:45:00  Business      Fort Pierce   \n",
       "2   2016-01-06 14:42:00 2016-01-06 15:49:00  Business      Fort Pierce   \n",
       "3   2016-01-06 17:15:00 2016-01-06 17:19:00  Business  West Palm Beach   \n",
       "4   2016-01-06 17:30:00 2016-01-06 17:35:00  Business  West Palm Beach   \n",
       "..                  ...                 ...       ...              ...   \n",
       "566 2016-12-30 16:45:00 2016-12-30 17:08:00  Business           Karchi   \n",
       "567 2016-12-30 23:06:00 2016-12-30 23:10:00  Business           Karchi   \n",
       "568 2016-12-31 01:07:00 2016-12-31 01:14:00  Business           Karchi   \n",
       "569 2016-12-31 21:32:00 2016-12-31 21:50:00  Business       Katunayake   \n",
       "570 2016-12-31 22:08:00 2016-12-31 23:51:00  Business          Gampaha   \n",
       "\n",
       "                STOP  MILES          PURPOSE   SALARY MONTH DAY_OF_THE_WEEK  \\\n",
       "0        Fort Pierce    4.8  Errand/Supplies   $10.32   Jan             Sat   \n",
       "1        Fort Pierce    4.7          Meeting   $10.11   Jan            Tues   \n",
       "2    West Palm Beach   63.7   Customer Visit  $136.96   Jan             Wed   \n",
       "3    West Palm Beach    4.3   Meal/Entertain    $9.25   Jan             Wed   \n",
       "4         Palm Beach    7.1          Meeting   $15.27   Jan             Wed   \n",
       "..               ...    ...              ...      ...   ...             ...   \n",
       "566           Karchi    4.6          Meeting    $9.89   Dec             Fri   \n",
       "567           Karchi    0.8   Customer Visit    $1.72   Dec             Fri   \n",
       "568           Karchi    0.7          Meeting    $1.51   Dec             Sat   \n",
       "569          Gampaha    6.4   Temporary Site   $13.76   Dec             Sat   \n",
       "570        Ilukwatta   48.2   Temporary Site  $103.63   Dec             Sat   \n",
       "\n",
       "           DURATION  \n",
       "0   0 days 00:13:00  \n",
       "1   0 days 00:14:00  \n",
       "2   0 days 01:07:00  \n",
       "3   0 days 00:04:00  \n",
       "4   0 days 00:05:00  \n",
       "..              ...  \n",
       "566 0 days 00:23:00  \n",
       "567 0 days 00:04:00  \n",
       "568 0 days 00:07:00  \n",
       "569 0 days 00:18:00  \n",
       "570 0 days 01:43:00  \n",
       "\n",
       "[571 rows x 11 columns]"
      ]
     },
     "execution_count": 9,
     "metadata": {},
     "output_type": "execute_result"
    }
   ],
   "source": [
    "uber_df"
   ]
  },
  {
   "cell_type": "code",
   "execution_count": 10,
   "id": "90663c49",
   "metadata": {
    "scrolled": false
   },
   "outputs": [
    {
     "name": "stdout",
     "output_type": "stream",
     "text": [
      "<class 'pandas.core.frame.DataFrame'>\n",
      "RangeIndex: 571 entries, 0 to 570\n",
      "Data columns (total 11 columns):\n",
      " #   Column           Non-Null Count  Dtype          \n",
      "---  ------           --------------  -----          \n",
      " 0   START_DATE       571 non-null    datetime64[ns] \n",
      " 1   END_DATE         571 non-null    datetime64[ns] \n",
      " 2   CATEGORY         571 non-null    object         \n",
      " 3   START            571 non-null    object         \n",
      " 4   STOP             571 non-null    object         \n",
      " 5   MILES            571 non-null    float64        \n",
      " 6   PURPOSE          571 non-null    object         \n",
      " 7   SALARY           571 non-null    object         \n",
      " 8   MONTH            571 non-null    object         \n",
      " 9   DAY_OF_THE_WEEK  571 non-null    object         \n",
      " 10  DURATION         571 non-null    timedelta64[ns]\n",
      "dtypes: datetime64[ns](2), float64(1), object(7), timedelta64[ns](1)\n",
      "memory usage: 49.2+ KB\n"
     ]
    }
   ],
   "source": [
    "uber_df.info()"
   ]
  },
  {
   "cell_type": "code",
   "execution_count": 11,
   "id": "5daddb31",
   "metadata": {},
   "outputs": [
    {
     "data": {
      "text/html": [
       "<div>\n",
       "<style scoped>\n",
       "    .dataframe tbody tr th:only-of-type {\n",
       "        vertical-align: middle;\n",
       "    }\n",
       "\n",
       "    .dataframe tbody tr th {\n",
       "        vertical-align: top;\n",
       "    }\n",
       "\n",
       "    .dataframe thead th {\n",
       "        text-align: right;\n",
       "    }\n",
       "</style>\n",
       "<table border=\"1\" class=\"dataframe\">\n",
       "  <thead>\n",
       "    <tr style=\"text-align: right;\">\n",
       "      <th></th>\n",
       "      <th>MILES</th>\n",
       "      <th>DURATION</th>\n",
       "    </tr>\n",
       "  </thead>\n",
       "  <tbody>\n",
       "    <tr>\n",
       "      <th>count</th>\n",
       "      <td>571.000000</td>\n",
       "      <td>571</td>\n",
       "    </tr>\n",
       "    <tr>\n",
       "      <th>mean</th>\n",
       "      <td>11.248862</td>\n",
       "      <td>0 days 00:22:31.313485113</td>\n",
       "    </tr>\n",
       "    <tr>\n",
       "      <th>std</th>\n",
       "      <td>24.123120</td>\n",
       "      <td>0 days 00:25:47.681069465</td>\n",
       "    </tr>\n",
       "    <tr>\n",
       "      <th>min</th>\n",
       "      <td>0.500000</td>\n",
       "      <td>0 days 00:02:00</td>\n",
       "    </tr>\n",
       "    <tr>\n",
       "      <th>25%</th>\n",
       "      <td>3.100000</td>\n",
       "      <td>0 days 00:11:00</td>\n",
       "    </tr>\n",
       "    <tr>\n",
       "      <th>50%</th>\n",
       "      <td>6.200000</td>\n",
       "      <td>0 days 00:17:00</td>\n",
       "    </tr>\n",
       "    <tr>\n",
       "      <th>75%</th>\n",
       "      <td>10.400000</td>\n",
       "      <td>0 days 00:25:00</td>\n",
       "    </tr>\n",
       "    <tr>\n",
       "      <th>max</th>\n",
       "      <td>310.300000</td>\n",
       "      <td>0 days 05:30:00</td>\n",
       "    </tr>\n",
       "  </tbody>\n",
       "</table>\n",
       "</div>"
      ],
      "text/plain": [
       "            MILES                   DURATION\n",
       "count  571.000000                        571\n",
       "mean    11.248862  0 days 00:22:31.313485113\n",
       "std     24.123120  0 days 00:25:47.681069465\n",
       "min      0.500000            0 days 00:02:00\n",
       "25%      3.100000            0 days 00:11:00\n",
       "50%      6.200000            0 days 00:17:00\n",
       "75%     10.400000            0 days 00:25:00\n",
       "max    310.300000            0 days 05:30:00"
      ]
     },
     "execution_count": 11,
     "metadata": {},
     "output_type": "execute_result"
    }
   ],
   "source": [
    "uber_df.describe()"
   ]
  },
  {
   "cell_type": "code",
   "execution_count": 12,
   "id": "6b17e407",
   "metadata": {},
   "outputs": [
    {
     "data": {
      "text/plain": [
       "START_DATE         571\n",
       "END_DATE           571\n",
       "CATEGORY           571\n",
       "START              571\n",
       "STOP               571\n",
       "MILES              571\n",
       "PURPOSE            571\n",
       "SALARY             571\n",
       "MONTH              571\n",
       "DAY_OF_THE_WEEK    571\n",
       "DURATION           571\n",
       "dtype: int64"
      ]
     },
     "execution_count": 12,
     "metadata": {},
     "output_type": "execute_result"
    }
   ],
   "source": [
    "uber_df.notnull().sum()"
   ]
  },
  {
   "cell_type": "code",
   "execution_count": 13,
   "id": "f1f054cd",
   "metadata": {
    "scrolled": true
   },
   "outputs": [
    {
     "data": {
      "text/plain": [
       "array(['Business', 'Personal'], dtype=object)"
      ]
     },
     "execution_count": 13,
     "metadata": {},
     "output_type": "execute_result"
    }
   ],
   "source": [
    "uber_df['CATEGORY'].unique()"
   ]
  },
  {
   "cell_type": "code",
   "execution_count": 14,
   "id": "ca364a12",
   "metadata": {},
   "outputs": [
    {
     "data": {
      "text/plain": [
       "565"
      ]
     },
     "execution_count": 14,
     "metadata": {},
     "output_type": "execute_result"
    }
   ],
   "source": [
    "sum(uber_df['CATEGORY']=='Business')"
   ]
  },
  {
   "cell_type": "code",
   "execution_count": 15,
   "id": "2c928fdf",
   "metadata": {},
   "outputs": [
    {
     "data": {
      "text/plain": [
       "6"
      ]
     },
     "execution_count": 15,
     "metadata": {},
     "output_type": "execute_result"
    }
   ],
   "source": [
    "sum(uber_df['CATEGORY']=='Personal')"
   ]
  },
  {
   "cell_type": "code",
   "execution_count": 16,
   "id": "aee26827",
   "metadata": {},
   "outputs": [
    {
     "data": {
      "text/plain": [
       "CATEGORY\n",
       "Business    6209.6\n",
       "Personal     213.5\n",
       "Name: MILES, dtype: float64"
      ]
     },
     "execution_count": 16,
     "metadata": {},
     "output_type": "execute_result"
    }
   ],
   "source": [
    "uber_total_count = uber_df.groupby(['CATEGORY']).sum()['MILES']\n",
    "uber_total_count"
   ]
  },
  {
   "cell_type": "code",
   "execution_count": 17,
   "id": "ee438a2b",
   "metadata": {},
   "outputs": [
    {
     "data": {
      "image/png": "[encoded data removed]",
      "text/plain": [
       "<Figure size 432x288 with 1 Axes>"
      ]
     },
     "metadata": {
      "needs_background": "light"
     },
     "output_type": "display_data"
    }
   ],
   "source": [
    "sns.countplot(x=uber_df['CATEGORY']);"
   ]
  },
  {
   "cell_type": "code",
   "execution_count": 18,
   "id": "d403934c",
   "metadata": {},
   "outputs": [
    {
     "data": {
      "text/plain": [
       "array(['Errand/Supplies', 'Meeting', 'Customer Visit', 'Meal/Entertain',\n",
       "       'Temporary Site', 'Between Offices', 'Charity ($)', 'Commute',\n",
       "       'Moving', 'Airport/Travel'], dtype=object)"
      ]
     },
     "execution_count": 18,
     "metadata": {},
     "output_type": "execute_result"
    }
   ],
   "source": [
    "uber_df['PURPOSE'].unique()"
   ]
  },
  {
   "cell_type": "code",
   "execution_count": 19,
   "id": "b127853c",
   "metadata": {},
   "outputs": [
    {
     "data": {
      "text/plain": [
       "111"
      ]
     },
     "execution_count": 19,
     "metadata": {},
     "output_type": "execute_result"
    }
   ],
   "source": [
    "sum(uber_df['PURPOSE']=='Errand/Supplies')"
   ]
  },
  {
   "cell_type": "code",
   "execution_count": 20,
   "id": "eca90973",
   "metadata": {},
   "outputs": [
    {
     "data": {
      "text/plain": [
       "164"
      ]
     },
     "execution_count": 20,
     "metadata": {},
     "output_type": "execute_result"
    }
   ],
   "source": [
    "sum(uber_df['PURPOSE']=='Meeting')"
   ]
  },
  {
   "cell_type": "code",
   "execution_count": 21,
   "id": "df47ce4f",
   "metadata": {},
   "outputs": [
    {
     "data": {
      "text/plain": [
       "92"
      ]
     },
     "execution_count": 21,
     "metadata": {},
     "output_type": "execute_result"
    }
   ],
   "source": [
    "sum(uber_df['PURPOSE']=='Customer Visit')"
   ]
  },
  {
   "cell_type": "code",
   "execution_count": 22,
   "id": "48badc84",
   "metadata": {},
   "outputs": [
    {
     "data": {
      "text/plain": [
       "147"
      ]
     },
     "execution_count": 22,
     "metadata": {},
     "output_type": "execute_result"
    }
   ],
   "source": [
    "sum(uber_df['PURPOSE']=='Meal/Entertain')"
   ]
  },
  {
   "cell_type": "code",
   "execution_count": 23,
   "id": "57534f50",
   "metadata": {},
   "outputs": [
    {
     "data": {
      "text/plain": [
       "32"
      ]
     },
     "execution_count": 23,
     "metadata": {},
     "output_type": "execute_result"
    }
   ],
   "source": [
    "sum(uber_df['PURPOSE']=='Temporary Site')"
   ]
  },
  {
   "cell_type": "code",
   "execution_count": 24,
   "id": "0bb0a840",
   "metadata": {},
   "outputs": [
    {
     "data": {
      "text/plain": [
       "18"
      ]
     },
     "execution_count": 24,
     "metadata": {},
     "output_type": "execute_result"
    }
   ],
   "source": [
    "sum(uber_df['PURPOSE']=='Between Offices')"
   ]
  },
  {
   "cell_type": "code",
   "execution_count": 25,
   "id": "5c4bdc30",
   "metadata": {},
   "outputs": [
    {
     "data": {
      "text/plain": [
       "1"
      ]
     },
     "execution_count": 25,
     "metadata": {},
     "output_type": "execute_result"
    }
   ],
   "source": [
    "sum(uber_df['PURPOSE']=='Charity ($)')"
   ]
  },
  {
   "cell_type": "code",
   "execution_count": 26,
   "id": "ee2ecde2",
   "metadata": {},
   "outputs": [
    {
     "data": {
      "text/plain": [
       "1"
      ]
     },
     "execution_count": 26,
     "metadata": {},
     "output_type": "execute_result"
    }
   ],
   "source": [
    "sum(uber_df['PURPOSE']=='Commute')"
   ]
  },
  {
   "cell_type": "code",
   "execution_count": 27,
   "id": "c727d797",
   "metadata": {},
   "outputs": [
    {
     "data": {
      "text/plain": [
       "4"
      ]
     },
     "execution_count": 27,
     "metadata": {},
     "output_type": "execute_result"
    }
   ],
   "source": [
    "sum(uber_df['PURPOSE']=='Moving')"
   ]
  },
  {
   "cell_type": "code",
   "execution_count": 28,
   "id": "3b8fb332",
   "metadata": {},
   "outputs": [
    {
     "data": {
      "text/plain": [
       "1"
      ]
     },
     "execution_count": 28,
     "metadata": {},
     "output_type": "execute_result"
    }
   ],
   "source": [
    "sum(uber_df['PURPOSE']=='Airport/Travel')"
   ]
  },
  {
   "cell_type": "code",
   "execution_count": 29,
   "id": "3e66497b",
   "metadata": {},
   "outputs": [
    {
     "data": {
      "text/plain": [
       "PURPOSE\n",
       "Airport/Travel        4.1\n",
       "Between Offices     197.0\n",
       "Charity ($)          15.1\n",
       "Commute             180.2\n",
       "Customer Visit     1995.2\n",
       "Errand/Supplies     430.9\n",
       "Meal/Entertain      819.2\n",
       "Meeting            2435.2\n",
       "Moving               18.2\n",
       "Temporary Site      328.0\n",
       "Name: MILES, dtype: float64"
      ]
     },
     "execution_count": 29,
     "metadata": {},
     "output_type": "execute_result"
    }
   ],
   "source": [
    "uber_ride_count = uber_df.groupby(['PURPOSE']).sum()['MILES']\n",
    "uber_ride_count"
   ]
  },
  {
   "cell_type": "code",
   "execution_count": 30,
   "id": "ce7f63f7",
   "metadata": {},
   "outputs": [
    {
     "data": {
      "image/png": "[encoded data removed]",
      "text/plain": [
       "<Figure size 432x288 with 1 Axes>"
      ]
     },
     "metadata": {
      "needs_background": "light"
     },
     "output_type": "display_data"
    }
   ],
   "source": [
    "purpose_labels = uber_df.PURPOSE.value_counts().nlargest(10)\n",
    "sns.barplot(x=purpose_labels.index, y=purpose_labels);\n",
    "plt.ylabel('Total Rides');\n",
    "plt.xticks(rotation=90);"
   ]
  },
  {
   "cell_type": "code",
   "execution_count": 31,
   "id": "9f14971a",
   "metadata": {},
   "outputs": [
    {
     "data": {
      "text/plain": [
       "6423.1"
      ]
     },
     "execution_count": 31,
     "metadata": {},
     "output_type": "execute_result"
    }
   ],
   "source": [
    "uber_df['MILES'].sum()"
   ]
  },
  {
   "cell_type": "code",
   "execution_count": 32,
   "id": "38d4d67a",
   "metadata": {},
   "outputs": [
    {
     "data": {
      "text/plain": [
       "Timedelta('8 days 22:20:00')"
      ]
     },
     "execution_count": 32,
     "metadata": {},
     "output_type": "execute_result"
    }
   ],
   "source": [
    "uber_df['DURATION'].sum()"
   ]
  },
  {
   "cell_type": "code",
   "execution_count": 33,
   "id": "94c5bf4f",
   "metadata": {
    "scrolled": true
   },
   "outputs": [
    {
     "data": {
      "text/plain": [
       "START_DATE          datetime64[ns]\n",
       "END_DATE            datetime64[ns]\n",
       "CATEGORY                    object\n",
       "START                       object\n",
       "STOP                        object\n",
       "MILES                      float64\n",
       "PURPOSE                     object\n",
       "SALARY                      object\n",
       "MONTH                       object\n",
       "DAY_OF_THE_WEEK             object\n",
       "DURATION           timedelta64[ns]\n",
       "dtype: object"
      ]
     },
     "execution_count": 33,
     "metadata": {},
     "output_type": "execute_result"
    }
   ],
   "source": [
    "#salary column (Total)\n",
    "uber_df.dtypes"
   ]
  },
  {
   "cell_type": "code",
   "execution_count": 34,
   "id": "5ba4a7f4",
   "metadata": {
    "scrolled": false
   },
   "outputs": [
    {
     "data": {
      "text/plain": [
       "0       10.32\n",
       "1       10.11\n",
       "2      136.96\n",
       "3        9.25\n",
       "4       15.27\n",
       "        ...  \n",
       "566      9.89\n",
       "567      1.72\n",
       "568      1.51\n",
       "569     13.76\n",
       "570    103.63\n",
       "Name: money_regex, Length: 571, dtype: float64"
      ]
     },
     "execution_count": 34,
     "metadata": {},
     "output_type": "execute_result"
    }
   ],
   "source": [
    "uber_df['money_regex'] = uber_df['SALARY'].str.replace('[\\$\\,]','', regex = True)\n",
    "uber_df['money_regex'] = pd.to_numeric(uber_df['money_regex'])\n",
    "uber_df['money_regex']"
   ]
  },
  {
   "cell_type": "code",
   "execution_count": 35,
   "id": "884b7ab5",
   "metadata": {
    "scrolled": true
   },
   "outputs": [
    {
     "data": {
      "text/html": [
       "<div>\n",
       "<style scoped>\n",
       "    .dataframe tbody tr th:only-of-type {\n",
       "        vertical-align: middle;\n",
       "    }\n",
       "\n",
       "    .dataframe tbody tr th {\n",
       "        vertical-align: top;\n",
       "    }\n",
       "\n",
       "    .dataframe thead th {\n",
       "        text-align: right;\n",
       "    }\n",
       "</style>\n",
       "<table border=\"1\" class=\"dataframe\">\n",
       "  <thead>\n",
       "    <tr style=\"text-align: right;\">\n",
       "      <th></th>\n",
       "      <th>START_DATE</th>\n",
       "      <th>END_DATE</th>\n",
       "      <th>CATEGORY</th>\n",
       "      <th>START</th>\n",
       "      <th>STOP</th>\n",
       "      <th>MILES</th>\n",
       "      <th>PURPOSE</th>\n",
       "      <th>SALARY</th>\n",
       "      <th>MONTH</th>\n",
       "      <th>DAY_OF_THE_WEEK</th>\n",
       "      <th>DURATION</th>\n",
       "      <th>money_regex</th>\n",
       "    </tr>\n",
       "  </thead>\n",
       "  <tbody>\n",
       "    <tr>\n",
       "      <th>0</th>\n",
       "      <td>2016-01-02 20:25:00</td>\n",
       "      <td>2016-01-02 20:38:00</td>\n",
       "      <td>Business</td>\n",
       "      <td>Fort Pierce</td>\n",
       "      <td>Fort Pierce</td>\n",
       "      <td>4.8</td>\n",
       "      <td>Errand/Supplies</td>\n",
       "      <td>$10.32</td>\n",
       "      <td>Jan</td>\n",
       "      <td>Sat</td>\n",
       "      <td>0 days 00:13:00</td>\n",
       "      <td>10.32</td>\n",
       "    </tr>\n",
       "    <tr>\n",
       "      <th>1</th>\n",
       "      <td>2016-01-05 17:31:00</td>\n",
       "      <td>2016-01-05 17:45:00</td>\n",
       "      <td>Business</td>\n",
       "      <td>Fort Pierce</td>\n",
       "      <td>Fort Pierce</td>\n",
       "      <td>4.7</td>\n",
       "      <td>Meeting</td>\n",
       "      <td>$10.11</td>\n",
       "      <td>Jan</td>\n",
       "      <td>Tues</td>\n",
       "      <td>0 days 00:14:00</td>\n",
       "      <td>10.11</td>\n",
       "    </tr>\n",
       "    <tr>\n",
       "      <th>2</th>\n",
       "      <td>2016-01-06 14:42:00</td>\n",
       "      <td>2016-01-06 15:49:00</td>\n",
       "      <td>Business</td>\n",
       "      <td>Fort Pierce</td>\n",
       "      <td>West Palm Beach</td>\n",
       "      <td>63.7</td>\n",
       "      <td>Customer Visit</td>\n",
       "      <td>$136.96</td>\n",
       "      <td>Jan</td>\n",
       "      <td>Wed</td>\n",
       "      <td>0 days 01:07:00</td>\n",
       "      <td>136.96</td>\n",
       "    </tr>\n",
       "    <tr>\n",
       "      <th>3</th>\n",
       "      <td>2016-01-06 17:15:00</td>\n",
       "      <td>2016-01-06 17:19:00</td>\n",
       "      <td>Business</td>\n",
       "      <td>West Palm Beach</td>\n",
       "      <td>West Palm Beach</td>\n",
       "      <td>4.3</td>\n",
       "      <td>Meal/Entertain</td>\n",
       "      <td>$9.25</td>\n",
       "      <td>Jan</td>\n",
       "      <td>Wed</td>\n",
       "      <td>0 days 00:04:00</td>\n",
       "      <td>9.25</td>\n",
       "    </tr>\n",
       "    <tr>\n",
       "      <th>4</th>\n",
       "      <td>2016-01-06 17:30:00</td>\n",
       "      <td>2016-01-06 17:35:00</td>\n",
       "      <td>Business</td>\n",
       "      <td>West Palm Beach</td>\n",
       "      <td>Palm Beach</td>\n",
       "      <td>7.1</td>\n",
       "      <td>Meeting</td>\n",
       "      <td>$15.27</td>\n",
       "      <td>Jan</td>\n",
       "      <td>Wed</td>\n",
       "      <td>0 days 00:05:00</td>\n",
       "      <td>15.27</td>\n",
       "    </tr>\n",
       "    <tr>\n",
       "      <th>...</th>\n",
       "      <td>...</td>\n",
       "      <td>...</td>\n",
       "      <td>...</td>\n",
       "      <td>...</td>\n",
       "      <td>...</td>\n",
       "      <td>...</td>\n",
       "      <td>...</td>\n",
       "      <td>...</td>\n",
       "      <td>...</td>\n",
       "      <td>...</td>\n",
       "      <td>...</td>\n",
       "      <td>...</td>\n",
       "    </tr>\n",
       "    <tr>\n",
       "      <th>566</th>\n",
       "      <td>2016-12-30 16:45:00</td>\n",
       "      <td>2016-12-30 17:08:00</td>\n",
       "      <td>Business</td>\n",
       "      <td>Karchi</td>\n",
       "      <td>Karchi</td>\n",
       "      <td>4.6</td>\n",
       "      <td>Meeting</td>\n",
       "      <td>$9.89</td>\n",
       "      <td>Dec</td>\n",
       "      <td>Fri</td>\n",
       "      <td>0 days 00:23:00</td>\n",
       "      <td>9.89</td>\n",
       "    </tr>\n",
       "    <tr>\n",
       "      <th>567</th>\n",
       "      <td>2016-12-30 23:06:00</td>\n",
       "      <td>2016-12-30 23:10:00</td>\n",
       "      <td>Business</td>\n",
       "      <td>Karchi</td>\n",
       "      <td>Karchi</td>\n",
       "      <td>0.8</td>\n",
       "      <td>Customer Visit</td>\n",
       "      <td>$1.72</td>\n",
       "      <td>Dec</td>\n",
       "      <td>Fri</td>\n",
       "      <td>0 days 00:04:00</td>\n",
       "      <td>1.72</td>\n",
       "    </tr>\n",
       "    <tr>\n",
       "      <th>568</th>\n",
       "      <td>2016-12-31 01:07:00</td>\n",
       "      <td>2016-12-31 01:14:00</td>\n",
       "      <td>Business</td>\n",
       "      <td>Karchi</td>\n",
       "      <td>Karchi</td>\n",
       "      <td>0.7</td>\n",
       "      <td>Meeting</td>\n",
       "      <td>$1.51</td>\n",
       "      <td>Dec</td>\n",
       "      <td>Sat</td>\n",
       "      <td>0 days 00:07:00</td>\n",
       "      <td>1.51</td>\n",
       "    </tr>\n",
       "    <tr>\n",
       "      <th>569</th>\n",
       "      <td>2016-12-31 21:32:00</td>\n",
       "      <td>2016-12-31 21:50:00</td>\n",
       "      <td>Business</td>\n",
       "      <td>Katunayake</td>\n",
       "      <td>Gampaha</td>\n",
       "      <td>6.4</td>\n",
       "      <td>Temporary Site</td>\n",
       "      <td>$13.76</td>\n",
       "      <td>Dec</td>\n",
       "      <td>Sat</td>\n",
       "      <td>0 days 00:18:00</td>\n",
       "      <td>13.76</td>\n",
       "    </tr>\n",
       "    <tr>\n",
       "      <th>570</th>\n",
       "      <td>2016-12-31 22:08:00</td>\n",
       "      <td>2016-12-31 23:51:00</td>\n",
       "      <td>Business</td>\n",
       "      <td>Gampaha</td>\n",
       "      <td>Ilukwatta</td>\n",
       "      <td>48.2</td>\n",
       "      <td>Temporary Site</td>\n",
       "      <td>$103.63</td>\n",
       "      <td>Dec</td>\n",
       "      <td>Sat</td>\n",
       "      <td>0 days 01:43:00</td>\n",
       "      <td>103.63</td>\n",
       "    </tr>\n",
       "  </tbody>\n",
       "</table>\n",
       "<p>571 rows × 12 columns</p>\n",
       "</div>"
      ],
      "text/plain": [
       "             START_DATE            END_DATE  CATEGORY            START  \\\n",
       "0   2016-01-02 20:25:00 2016-01-02 20:38:00  Business      Fort Pierce   \n",
       "1   2016-01-05 17:31:00 2016-01-05 17:45:00  Business      Fort Pierce   \n",
       "2   2016-01-06 14:42:00 2016-01-06 15:49:00  Business      Fort Pierce   \n",
       "3   2016-01-06 17:15:00 2016-01-06 17:19:00  Business  West Palm Beach   \n",
       "4   2016-01-06 17:30:00 2016-01-06 17:35:00  Business  West Palm Beach   \n",
       "..                  ...                 ...       ...              ...   \n",
       "566 2016-12-30 16:45:00 2016-12-30 17:08:00  Business           Karchi   \n",
       "567 2016-12-30 23:06:00 2016-12-30 23:10:00  Business           Karchi   \n",
       "568 2016-12-31 01:07:00 2016-12-31 01:14:00  Business           Karchi   \n",
       "569 2016-12-31 21:32:00 2016-12-31 21:50:00  Business       Katunayake   \n",
       "570 2016-12-31 22:08:00 2016-12-31 23:51:00  Business          Gampaha   \n",
       "\n",
       "                STOP  MILES          PURPOSE   SALARY MONTH DAY_OF_THE_WEEK  \\\n",
       "0        Fort Pierce    4.8  Errand/Supplies   $10.32   Jan             Sat   \n",
       "1        Fort Pierce    4.7          Meeting   $10.11   Jan            Tues   \n",
       "2    West Palm Beach   63.7   Customer Visit  $136.96   Jan             Wed   \n",
       "3    West Palm Beach    4.3   Meal/Entertain    $9.25   Jan             Wed   \n",
       "4         Palm Beach    7.1          Meeting   $15.27   Jan             Wed   \n",
       "..               ...    ...              ...      ...   ...             ...   \n",
       "566           Karchi    4.6          Meeting    $9.89   Dec             Fri   \n",
       "567           Karchi    0.8   Customer Visit    $1.72   Dec             Fri   \n",
       "568           Karchi    0.7          Meeting    $1.51   Dec             Sat   \n",
       "569          Gampaha    6.4   Temporary Site   $13.76   Dec             Sat   \n",
       "570        Ilukwatta   48.2   Temporary Site  $103.63   Dec             Sat   \n",
       "\n",
       "           DURATION  money_regex  \n",
       "0   0 days 00:13:00        10.32  \n",
       "1   0 days 00:14:00        10.11  \n",
       "2   0 days 01:07:00       136.96  \n",
       "3   0 days 00:04:00         9.25  \n",
       "4   0 days 00:05:00        15.27  \n",
       "..              ...          ...  \n",
       "566 0 days 00:23:00         9.89  \n",
       "567 0 days 00:04:00         1.72  \n",
       "568 0 days 00:07:00         1.51  \n",
       "569 0 days 00:18:00        13.76  \n",
       "570 0 days 01:43:00       103.63  \n",
       "\n",
       "[571 rows x 12 columns]"
      ]
     },
     "execution_count": 35,
     "metadata": {},
     "output_type": "execute_result"
    }
   ],
   "source": [
    "uber_df"
   ]
  },
  {
   "cell_type": "code",
   "execution_count": 36,
   "id": "3d197959",
   "metadata": {},
   "outputs": [
    {
     "data": {
      "text/plain": [
       "13811.189999999999"
      ]
     },
     "execution_count": 36,
     "metadata": {},
     "output_type": "execute_result"
    }
   ],
   "source": [
    "uber_df['money_regex'].sum()"
   ]
  },
  {
   "cell_type": "code",
   "execution_count": 37,
   "id": "adc80160",
   "metadata": {},
   "outputs": [
    {
     "data": {
      "image/png": "[encoded data removed]",
      "text/plain": [
       "<Figure size 432x288 with 1 Axes>"
      ]
     },
     "metadata": {},
     "output_type": "display_data"
    }
   ],
   "source": [
    "start_labels = uber_df.START.value_counts().nlargest(10)\n",
    "sns.set(style='darkgrid')\n",
    "sns.barplot(x=start_labels.index, y=start_labels);\n",
    "plt.ylabel('Value Counts');\n",
    "plt.xticks(rotation=90);"
   ]
  },
  {
   "cell_type": "code",
   "execution_count": 38,
   "id": "bd66664b",
   "metadata": {
    "scrolled": true
   },
   "outputs": [
    {
     "data": {
      "image/png": "[encoded data removed]",
      "text/plain": [
       "<Figure size 432x288 with 1 Axes>"
      ]
     },
     "metadata": {},
     "output_type": "display_data"
    }
   ],
   "source": [
    "sns.countplot(x=uber_df['MONTH']);\n",
    "sns.set(style='darkgrid')"
   ]
  },
  {
   "cell_type": "code",
   "execution_count": 39,
   "id": "fece1dbe",
   "metadata": {},
   "outputs": [],
   "source": [
    "miles_dic = {}\n",
    "for i in uber_df.MILES:\n",
    "    if i < 10:\n",
    "        if '0-10 miles' not in miles_dic:\n",
    "            miles_dic['0-10 miles'] = [i]\n",
    "        else:\n",
    "            miles_dic['0-10 miles'].append(i)\n",
    "            \n",
    "    elif i >= 10 and i < 20:\n",
    "        if '10-20 miles' not in miles_dic:\n",
    "            miles_dic['10-20 miles'] = [i]\n",
    "        else:\n",
    "            miles_dic['10-20 miles'].append(i)\n",
    "    \n",
    "    elif i >= 20 and i < 30:\n",
    "        if '20-30 miles' not in miles_dic:\n",
    "            miles_dic['20-30 miles'] = [i]\n",
    "        else:\n",
    "            miles_dic['20-30 miles'].append(i)\n",
    "            \n",
    "    elif i >= 30 and i < 40:\n",
    "        if '30-40 miles' not in miles_dic:\n",
    "            miles_dic['30-40 miles'] = [i]\n",
    "        else:\n",
    "            miles_dic['30-40 miles'].append(i)\n",
    "            \n",
    "    elif i >= 40 and i < 50:\n",
    "        if '40-50 miles' not in miles_dic:\n",
    "            miles_dic['40-50 miles'] = [i]\n",
    "        else:\n",
    "            miles_dic['40-50 miles'].append(i)\n",
    "    else:\n",
    "        if 'Above 50 miles' not in miles_dic:\n",
    "            miles_dic['Above 50 miles'] = [i]\n",
    "        else:\n",
    "            miles_dic['Above 50 miles'].append(i)\n",
    "            \n"
   ]
  },
  {
   "cell_type": "code",
   "execution_count": 40,
   "id": "d81ad0f3",
   "metadata": {
    "scrolled": true
   },
   "outputs": [
    {
     "data": {
      "image/png": "[encoded data removed]",
      "text/plain": [
       "<Figure size 720x360 with 1 Axes>"
      ]
     },
     "metadata": {},
     "output_type": "display_data"
    }
   ],
   "source": [
    "len_miles = []\n",
    "for key in miles_dic:\n",
    "    len_miles.append((key, len(miles_dic[key])))\n",
    "a, b = [], []\n",
    "for i, j in len_miles:\n",
    "    a.append(i)\n",
    "    b.append(j)\n",
    "plt.figure(figsize=(10, 5))\n",
    "plt.xticks(rotation=0)\n",
    "sns.barplot(x=a, y=b)\n",
    "plt.xlabel('Miles')\n",
    "plt.ylabel('Count');"
   ]
  },
  {
   "cell_type": "code",
   "execution_count": 41,
   "id": "cba5574a",
   "metadata": {},
   "outputs": [],
   "source": [
    "uber_df['DAY'] = uber_df.START_DATE.dt.weekday\n",
    "day_label = {\n",
    "    0: 'Mon', 1: 'Tues', 2: 'Wed', 3: 'Thus', 4: 'Fri' , 5: 'Sat', 6: 'Sun'\n",
    "} \n",
    "uber_df['DAY'] = uber_df['DAY'].map(day_label)"
   ]
  },
  {
   "cell_type": "code",
   "execution_count": 42,
   "id": "83077845",
   "metadata": {
    "scrolled": true
   },
   "outputs": [
    {
     "data": {
      "image/png": "[encoded data removed]",
      "text/plain": [
       "<Figure size 432x288 with 1 Axes>"
      ]
     },
     "metadata": {},
     "output_type": "display_data"
    }
   ],
   "source": [
    "day_label = uber_df.DAY.value_counts()\n",
    "sns.barplot(x=day_label.index, y=day_label);\n",
    "sns.set(style='white')\n",
    "plt.xlabel('Day')\n",
    "plt.ylabel('Count');"
   ]
  },
  {
   "cell_type": "code",
   "execution_count": 43,
   "id": "a48562ac",
   "metadata": {
    "scrolled": true
   },
   "outputs": [
    {
     "data": {
      "image/png": "[encoded data removed]",
      "text/plain": [
       "<Figure size 432x288 with 1 Axes>"
      ]
     },
     "metadata": {},
     "output_type": "display_data"
    }
   ],
   "source": [
    "sns.countplot(hue='CATEGORY', x='DAY', data=uber_df);\n",
    "sns.set(style='ticks')"
   ]
  },
  {
   "cell_type": "code",
   "execution_count": 44,
   "id": "4a5cd652",
   "metadata": {
    "scrolled": true
   },
   "outputs": [
    {
     "data": {
      "image/png": "[encoded data removed]",
      "text/plain": [
       "<Figure size 432x288 with 1 Axes>"
      ]
     },
     "metadata": {},
     "output_type": "display_data"
    }
   ],
   "source": [
    "sns.countplot(hue='PURPOSE', x='MONTH', data=uber_df);\n",
    "sns.set(style='whitegrid')\n"
   ]
  },
  {
   "cell_type": "code",
   "execution_count": 45,
   "id": "3696c4a9",
   "metadata": {
    "scrolled": true
   },
   "outputs": [
    {
     "data": {
      "image/png": "[encoded data removed]",
      "text/plain": [
       "<Figure size 432x288 with 1 Axes>"
      ]
     },
     "metadata": {},
     "output_type": "display_data"
    }
   ],
   "source": [
    "sns.countplot(hue='PURPOSE', x='DAY', data=uber_df);\n",
    "sns.set(style='white')"
   ]
  },
  {
   "cell_type": "code",
   "execution_count": 46,
   "id": "64595550",
   "metadata": {},
   "outputs": [],
   "source": [
    "uber_df.to_csv(\"My_Uber_Trips_(final_file).csv\", index=False)"
   ]
  },
  {
   "cell_type": "code",
   "execution_count": null,
   "id": "fb98be1e",
   "metadata": {},
   "outputs": [],
   "source": []
  }
 ],
 "metadata": {
  "kernelspec": {
   "display_name": "Python 3 (ipykernel)",
   "language": "python",
   "name": "python3"
  },
  "language_info": {
   "codemirror_mode": {
    "name": "ipython",
    "version": 3
   },
   "file_extension": ".py",
   "mimetype": "text/x-python",
   "name": "python",
   "nbconvert_exporter": "python",
   "pygments_lexer": "ipython3",
   "version": "3.9.7"
  }
 },
 "nbformat": 4,
 "nbformat_minor": 5
}

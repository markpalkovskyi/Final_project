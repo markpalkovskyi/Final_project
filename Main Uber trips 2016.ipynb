{
 "cells": [
  {
   "cell_type": "code",
   "execution_count": 1,
   "id": "015c6313",
   "metadata": {},
   "outputs": [],
   "source": [
    "import pandas as pd\n",
    "import os\n",
    "import matplotlib.pyplot as plt\n",
    "%matplotlib inline\n",
    "import seaborn as sns\n",
    "import numpy as np"
   ]
  },
  {
   "cell_type": "code",
   "execution_count": 2,
   "id": "f032b0fb",
   "metadata": {
    "scrolled": true
   },
   "outputs": [
    {
     "data": {
      "text/html": [
       "<div>\n",
       "<style scoped>\n",
       "    .dataframe tbody tr th:only-of-type {\n",
       "        vertical-align: middle;\n",
       "    }\n",
       "\n",
       "    .dataframe tbody tr th {\n",
       "        vertical-align: top;\n",
       "    }\n",
       "\n",
       "    .dataframe thead th {\n",
       "        text-align: right;\n",
       "    }\n",
       "</style>\n",
       "<table border=\"1\" class=\"dataframe\">\n",
       "  <thead>\n",
       "    <tr style=\"text-align: right;\">\n",
       "      <th></th>\n",
       "      <th>START_DATE</th>\n",
       "      <th>END_DATE</th>\n",
       "      <th>CATEGORY</th>\n",
       "      <th>START</th>\n",
       "      <th>STOP</th>\n",
       "      <th>MILES</th>\n",
       "      <th>PURPOSE</th>\n",
       "      <th>SALARY</th>\n",
       "    </tr>\n",
       "  </thead>\n",
       "  <tbody>\n",
       "    <tr>\n",
       "      <th>0</th>\n",
       "      <td>1/2/16 20:25</td>\n",
       "      <td>1/2/16 20:38</td>\n",
       "      <td>Business</td>\n",
       "      <td>Fort Pierce</td>\n",
       "      <td>Fort Pierce</td>\n",
       "      <td>4.8</td>\n",
       "      <td>Errand/Supplies</td>\n",
       "      <td>$10.32</td>\n",
       "    </tr>\n",
       "    <tr>\n",
       "      <th>1</th>\n",
       "      <td>1/5/16 17:31</td>\n",
       "      <td>1/5/16 17:45</td>\n",
       "      <td>Business</td>\n",
       "      <td>Fort Pierce</td>\n",
       "      <td>Fort Pierce</td>\n",
       "      <td>4.7</td>\n",
       "      <td>Meeting</td>\n",
       "      <td>$10.11</td>\n",
       "    </tr>\n",
       "    <tr>\n",
       "      <th>2</th>\n",
       "      <td>1/6/16 14:42</td>\n",
       "      <td>1/6/16 15:49</td>\n",
       "      <td>Business</td>\n",
       "      <td>Fort Pierce</td>\n",
       "      <td>West Palm Beach</td>\n",
       "      <td>63.7</td>\n",
       "      <td>Customer Visit</td>\n",
       "      <td>$136.96</td>\n",
       "    </tr>\n",
       "    <tr>\n",
       "      <th>3</th>\n",
       "      <td>1/6/16 17:15</td>\n",
       "      <td>1/6/16 17:19</td>\n",
       "      <td>Business</td>\n",
       "      <td>West Palm Beach</td>\n",
       "      <td>West Palm Beach</td>\n",
       "      <td>4.3</td>\n",
       "      <td>Meal/Entertain</td>\n",
       "      <td>$9.25</td>\n",
       "    </tr>\n",
       "    <tr>\n",
       "      <th>4</th>\n",
       "      <td>1/6/16 17:30</td>\n",
       "      <td>1/6/16 17:35</td>\n",
       "      <td>Business</td>\n",
       "      <td>West Palm Beach</td>\n",
       "      <td>Palm Beach</td>\n",
       "      <td>7.1</td>\n",
       "      <td>Meeting</td>\n",
       "      <td>$15.27</td>\n",
       "    </tr>\n",
       "    <tr>\n",
       "      <th>...</th>\n",
       "      <td>...</td>\n",
       "      <td>...</td>\n",
       "      <td>...</td>\n",
       "      <td>...</td>\n",
       "      <td>...</td>\n",
       "      <td>...</td>\n",
       "      <td>...</td>\n",
       "      <td>...</td>\n",
       "    </tr>\n",
       "    <tr>\n",
       "      <th>566</th>\n",
       "      <td>12/30/16 16:45</td>\n",
       "      <td>12/30/16 17:08</td>\n",
       "      <td>Business</td>\n",
       "      <td>Karchi</td>\n",
       "      <td>Karchi</td>\n",
       "      <td>4.6</td>\n",
       "      <td>Meeting</td>\n",
       "      <td>$9.89</td>\n",
       "    </tr>\n",
       "    <tr>\n",
       "      <th>567</th>\n",
       "      <td>12/30/16 23:06</td>\n",
       "      <td>12/30/16 23:10</td>\n",
       "      <td>Business</td>\n",
       "      <td>Karchi</td>\n",
       "      <td>Karchi</td>\n",
       "      <td>0.8</td>\n",
       "      <td>Customer Visit</td>\n",
       "      <td>$1.72</td>\n",
       "    </tr>\n",
       "    <tr>\n",
       "      <th>568</th>\n",
       "      <td>12/31/16 1:07</td>\n",
       "      <td>12/31/16 1:14</td>\n",
       "      <td>Business</td>\n",
       "      <td>Karchi</td>\n",
       "      <td>Karchi</td>\n",
       "      <td>0.7</td>\n",
       "      <td>Meeting</td>\n",
       "      <td>$1.51</td>\n",
       "    </tr>\n",
       "    <tr>\n",
       "      <th>569</th>\n",
       "      <td>12/31/16 21:32</td>\n",
       "      <td>12/31/16 21:50</td>\n",
       "      <td>Business</td>\n",
       "      <td>Katunayake</td>\n",
       "      <td>Gampaha</td>\n",
       "      <td>6.4</td>\n",
       "      <td>Temporary Site</td>\n",
       "      <td>$13.76</td>\n",
       "    </tr>\n",
       "    <tr>\n",
       "      <th>570</th>\n",
       "      <td>12/31/16 22:08</td>\n",
       "      <td>12/31/16 23:51</td>\n",
       "      <td>Business</td>\n",
       "      <td>Gampaha</td>\n",
       "      <td>Ilukwatta</td>\n",
       "      <td>48.2</td>\n",
       "      <td>Temporary Site</td>\n",
       "      <td>$103.63</td>\n",
       "    </tr>\n",
       "  </tbody>\n",
       "</table>\n",
       "<p>571 rows × 8 columns</p>\n",
       "</div>"
      ],
      "text/plain": [
       "         START_DATE        END_DATE  CATEGORY            START  \\\n",
       "0      1/2/16 20:25    1/2/16 20:38  Business      Fort Pierce   \n",
       "1      1/5/16 17:31    1/5/16 17:45  Business      Fort Pierce   \n",
       "2      1/6/16 14:42    1/6/16 15:49  Business      Fort Pierce   \n",
       "3      1/6/16 17:15    1/6/16 17:19  Business  West Palm Beach   \n",
       "4      1/6/16 17:30    1/6/16 17:35  Business  West Palm Beach   \n",
       "..              ...             ...       ...              ...   \n",
       "566  12/30/16 16:45  12/30/16 17:08  Business           Karchi   \n",
       "567  12/30/16 23:06  12/30/16 23:10  Business           Karchi   \n",
       "568   12/31/16 1:07   12/31/16 1:14  Business           Karchi   \n",
       "569  12/31/16 21:32  12/31/16 21:50  Business       Katunayake   \n",
       "570  12/31/16 22:08  12/31/16 23:51  Business          Gampaha   \n",
       "\n",
       "                STOP  MILES          PURPOSE   SALARY  \n",
       "0        Fort Pierce    4.8  Errand/Supplies   $10.32  \n",
       "1        Fort Pierce    4.7          Meeting   $10.11  \n",
       "2    West Palm Beach   63.7   Customer Visit  $136.96  \n",
       "3    West Palm Beach    4.3   Meal/Entertain    $9.25  \n",
       "4         Palm Beach    7.1          Meeting   $15.27  \n",
       "..               ...    ...              ...      ...  \n",
       "566           Karchi    4.6          Meeting    $9.89  \n",
       "567           Karchi    0.8   Customer Visit    $1.72  \n",
       "568           Karchi    0.7          Meeting    $1.51  \n",
       "569          Gampaha    6.4   Temporary Site   $13.76  \n",
       "570        Ilukwatta   48.2   Temporary Site  $103.63  \n",
       "\n",
       "[571 rows x 8 columns]"
      ]
     },
     "execution_count": 2,
     "metadata": {},
     "output_type": "execute_result"
    }
   ],
   "source": [
    "#Updated csv file where missing values in 'Purpose' column got deleted.\n",
    "uber_df = pd.read_csv(\"Uber_trips_2016.csv\", low_memory=False)\n",
    "uber_df"
   ]
  },
  {
   "cell_type": "code",
   "execution_count": 3,
   "id": "04b9c9a5",
   "metadata": {},
   "outputs": [],
   "source": [
    "from datetime import datetime"
   ]
  },
  {
   "cell_type": "code",
   "execution_count": 4,
   "id": "36ddef53",
   "metadata": {},
   "outputs": [
    {
     "data": {
      "text/html": [
       "<div>\n",
       "<style scoped>\n",
       "    .dataframe tbody tr th:only-of-type {\n",
       "        vertical-align: middle;\n",
       "    }\n",
       "\n",
       "    .dataframe tbody tr th {\n",
       "        vertical-align: top;\n",
       "    }\n",
       "\n",
       "    .dataframe thead th {\n",
       "        text-align: right;\n",
       "    }\n",
       "</style>\n",
       "<table border=\"1\" class=\"dataframe\">\n",
       "  <thead>\n",
       "    <tr style=\"text-align: right;\">\n",
       "      <th></th>\n",
       "      <th>START_DATE</th>\n",
       "      <th>END_DATE</th>\n",
       "      <th>CATEGORY</th>\n",
       "      <th>START</th>\n",
       "      <th>STOP</th>\n",
       "      <th>MILES</th>\n",
       "      <th>PURPOSE</th>\n",
       "      <th>SALARY</th>\n",
       "    </tr>\n",
       "  </thead>\n",
       "  <tbody>\n",
       "    <tr>\n",
       "      <th>0</th>\n",
       "      <td>2016-01-02 20:25:00</td>\n",
       "      <td>2016-01-02 20:38:00</td>\n",
       "      <td>Business</td>\n",
       "      <td>Fort Pierce</td>\n",
       "      <td>Fort Pierce</td>\n",
       "      <td>4.8</td>\n",
       "      <td>Errand/Supplies</td>\n",
       "      <td>$10.32</td>\n",
       "    </tr>\n",
       "    <tr>\n",
       "      <th>1</th>\n",
       "      <td>2016-01-05 17:31:00</td>\n",
       "      <td>2016-01-05 17:45:00</td>\n",
       "      <td>Business</td>\n",
       "      <td>Fort Pierce</td>\n",
       "      <td>Fort Pierce</td>\n",
       "      <td>4.7</td>\n",
       "      <td>Meeting</td>\n",
       "      <td>$10.11</td>\n",
       "    </tr>\n",
       "    <tr>\n",
       "      <th>2</th>\n",
       "      <td>2016-01-06 14:42:00</td>\n",
       "      <td>2016-01-06 15:49:00</td>\n",
       "      <td>Business</td>\n",
       "      <td>Fort Pierce</td>\n",
       "      <td>West Palm Beach</td>\n",
       "      <td>63.7</td>\n",
       "      <td>Customer Visit</td>\n",
       "      <td>$136.96</td>\n",
       "    </tr>\n",
       "    <tr>\n",
       "      <th>3</th>\n",
       "      <td>2016-01-06 17:15:00</td>\n",
       "      <td>2016-01-06 17:19:00</td>\n",
       "      <td>Business</td>\n",
       "      <td>West Palm Beach</td>\n",
       "      <td>West Palm Beach</td>\n",
       "      <td>4.3</td>\n",
       "      <td>Meal/Entertain</td>\n",
       "      <td>$9.25</td>\n",
       "    </tr>\n",
       "    <tr>\n",
       "      <th>4</th>\n",
       "      <td>2016-01-06 17:30:00</td>\n",
       "      <td>2016-01-06 17:35:00</td>\n",
       "      <td>Business</td>\n",
       "      <td>West Palm Beach</td>\n",
       "      <td>Palm Beach</td>\n",
       "      <td>7.1</td>\n",
       "      <td>Meeting</td>\n",
       "      <td>$15.27</td>\n",
       "    </tr>\n",
       "    <tr>\n",
       "      <th>...</th>\n",
       "      <td>...</td>\n",
       "      <td>...</td>\n",
       "      <td>...</td>\n",
       "      <td>...</td>\n",
       "      <td>...</td>\n",
       "      <td>...</td>\n",
       "      <td>...</td>\n",
       "      <td>...</td>\n",
       "    </tr>\n",
       "    <tr>\n",
       "      <th>566</th>\n",
       "      <td>2016-12-30 16:45:00</td>\n",
       "      <td>2016-12-30 17:08:00</td>\n",
       "      <td>Business</td>\n",
       "      <td>Karchi</td>\n",
       "      <td>Karchi</td>\n",
       "      <td>4.6</td>\n",
       "      <td>Meeting</td>\n",
       "      <td>$9.89</td>\n",
       "    </tr>\n",
       "    <tr>\n",
       "      <th>567</th>\n",
       "      <td>2016-12-30 23:06:00</td>\n",
       "      <td>2016-12-30 23:10:00</td>\n",
       "      <td>Business</td>\n",
       "      <td>Karchi</td>\n",
       "      <td>Karchi</td>\n",
       "      <td>0.8</td>\n",
       "      <td>Customer Visit</td>\n",
       "      <td>$1.72</td>\n",
       "    </tr>\n",
       "    <tr>\n",
       "      <th>568</th>\n",
       "      <td>2016-12-31 01:07:00</td>\n",
       "      <td>2016-12-31 01:14:00</td>\n",
       "      <td>Business</td>\n",
       "      <td>Karchi</td>\n",
       "      <td>Karchi</td>\n",
       "      <td>0.7</td>\n",
       "      <td>Meeting</td>\n",
       "      <td>$1.51</td>\n",
       "    </tr>\n",
       "    <tr>\n",
       "      <th>569</th>\n",
       "      <td>2016-12-31 21:32:00</td>\n",
       "      <td>2016-12-31 21:50:00</td>\n",
       "      <td>Business</td>\n",
       "      <td>Katunayake</td>\n",
       "      <td>Gampaha</td>\n",
       "      <td>6.4</td>\n",
       "      <td>Temporary Site</td>\n",
       "      <td>$13.76</td>\n",
       "    </tr>\n",
       "    <tr>\n",
       "      <th>570</th>\n",
       "      <td>2016-12-31 22:08:00</td>\n",
       "      <td>2016-12-31 23:51:00</td>\n",
       "      <td>Business</td>\n",
       "      <td>Gampaha</td>\n",
       "      <td>Ilukwatta</td>\n",
       "      <td>48.2</td>\n",
       "      <td>Temporary Site</td>\n",
       "      <td>$103.63</td>\n",
       "    </tr>\n",
       "  </tbody>\n",
       "</table>\n",
       "<p>571 rows × 8 columns</p>\n",
       "</div>"
      ],
      "text/plain": [
       "             START_DATE            END_DATE  CATEGORY            START  \\\n",
       "0   2016-01-02 20:25:00 2016-01-02 20:38:00  Business      Fort Pierce   \n",
       "1   2016-01-05 17:31:00 2016-01-05 17:45:00  Business      Fort Pierce   \n",
       "2   2016-01-06 14:42:00 2016-01-06 15:49:00  Business      Fort Pierce   \n",
       "3   2016-01-06 17:15:00 2016-01-06 17:19:00  Business  West Palm Beach   \n",
       "4   2016-01-06 17:30:00 2016-01-06 17:35:00  Business  West Palm Beach   \n",
       "..                  ...                 ...       ...              ...   \n",
       "566 2016-12-30 16:45:00 2016-12-30 17:08:00  Business           Karchi   \n",
       "567 2016-12-30 23:06:00 2016-12-30 23:10:00  Business           Karchi   \n",
       "568 2016-12-31 01:07:00 2016-12-31 01:14:00  Business           Karchi   \n",
       "569 2016-12-31 21:32:00 2016-12-31 21:50:00  Business       Katunayake   \n",
       "570 2016-12-31 22:08:00 2016-12-31 23:51:00  Business          Gampaha   \n",
       "\n",
       "                STOP  MILES          PURPOSE   SALARY  \n",
       "0        Fort Pierce    4.8  Errand/Supplies   $10.32  \n",
       "1        Fort Pierce    4.7          Meeting   $10.11  \n",
       "2    West Palm Beach   63.7   Customer Visit  $136.96  \n",
       "3    West Palm Beach    4.3   Meal/Entertain    $9.25  \n",
       "4         Palm Beach    7.1          Meeting   $15.27  \n",
       "..               ...    ...              ...      ...  \n",
       "566           Karchi    4.6          Meeting    $9.89  \n",
       "567           Karchi    0.8   Customer Visit    $1.72  \n",
       "568           Karchi    0.7          Meeting    $1.51  \n",
       "569          Gampaha    6.4   Temporary Site   $13.76  \n",
       "570        Ilukwatta   48.2   Temporary Site  $103.63  \n",
       "\n",
       "[571 rows x 8 columns]"
      ]
     },
     "execution_count": 4,
     "metadata": {},
     "output_type": "execute_result"
    }
   ],
   "source": [
    "uber_df['START_DATE'] = pd.to_datetime(uber_df['START_DATE'], format = '%m/%d/%y %H:%M')\n",
    "uber_df['END_DATE'] = pd.to_datetime(uber_df['END_DATE'], format = '%m/%d/%y %H:%M')\n",
    "\n",
    "uber_df"
   ]
  },
  {
   "cell_type": "code",
   "execution_count": 5,
   "id": "3b9d9ca1",
   "metadata": {},
   "outputs": [],
   "source": [
    "uber_df['MONTH'] = uber_df['START_DATE'].apply(lambda time: time.month)\n",
    "uber_df['DAY_OF_THE_WEEK'] = uber_df['START_DATE'].apply(lambda time: time.dayofweek)"
   ]
  },
  {
   "cell_type": "code",
   "execution_count": 6,
   "id": "f97fda24",
   "metadata": {},
   "outputs": [
    {
     "data": {
      "text/plain": [
       "0      Jan\n",
       "1      Jan\n",
       "2      Jan\n",
       "3      Jan\n",
       "4      Jan\n",
       "      ... \n",
       "566    Dec\n",
       "567    Dec\n",
       "568    Dec\n",
       "569    Dec\n",
       "570    Dec\n",
       "Name: MONTH, Length: 571, dtype: object"
      ]
     },
     "execution_count": 6,
     "metadata": {},
     "output_type": "execute_result"
    }
   ],
   "source": [
    "mmap = {1:'Jan', 2:'Feb',3:'Mar', 4:'Apr',5:'May',6:'June',7:'July', 8:'Aug', 9:'Sep',10:'Oct',11:'Nov',12:'Dec'}\n",
    "uber_df['MONTH'] = uber_df['MONTH'].map(mmap)\n",
    "uber_df['MONTH']"
   ]
  },
  {
   "cell_type": "code",
   "execution_count": 7,
   "id": "70026365",
   "metadata": {},
   "outputs": [
    {
     "data": {
      "text/html": [
       "<div>\n",
       "<style scoped>\n",
       "    .dataframe tbody tr th:only-of-type {\n",
       "        vertical-align: middle;\n",
       "    }\n",
       "\n",
       "    .dataframe tbody tr th {\n",
       "        vertical-align: top;\n",
       "    }\n",
       "\n",
       "    .dataframe thead th {\n",
       "        text-align: right;\n",
       "    }\n",
       "</style>\n",
       "<table border=\"1\" class=\"dataframe\">\n",
       "  <thead>\n",
       "    <tr style=\"text-align: right;\">\n",
       "      <th></th>\n",
       "      <th>START_DATE</th>\n",
       "      <th>END_DATE</th>\n",
       "      <th>CATEGORY</th>\n",
       "      <th>START</th>\n",
       "      <th>STOP</th>\n",
       "      <th>MILES</th>\n",
       "      <th>PURPOSE</th>\n",
       "      <th>SALARY</th>\n",
       "      <th>MONTH</th>\n",
       "      <th>DAY_OF_THE_WEEK</th>\n",
       "    </tr>\n",
       "  </thead>\n",
       "  <tbody>\n",
       "    <tr>\n",
       "      <th>0</th>\n",
       "      <td>2016-01-02 20:25:00</td>\n",
       "      <td>2016-01-02 20:38:00</td>\n",
       "      <td>Business</td>\n",
       "      <td>Fort Pierce</td>\n",
       "      <td>Fort Pierce</td>\n",
       "      <td>4.8</td>\n",
       "      <td>Errand/Supplies</td>\n",
       "      <td>$10.32</td>\n",
       "      <td>Jan</td>\n",
       "      <td>5</td>\n",
       "    </tr>\n",
       "    <tr>\n",
       "      <th>1</th>\n",
       "      <td>2016-01-05 17:31:00</td>\n",
       "      <td>2016-01-05 17:45:00</td>\n",
       "      <td>Business</td>\n",
       "      <td>Fort Pierce</td>\n",
       "      <td>Fort Pierce</td>\n",
       "      <td>4.7</td>\n",
       "      <td>Meeting</td>\n",
       "      <td>$10.11</td>\n",
       "      <td>Jan</td>\n",
       "      <td>1</td>\n",
       "    </tr>\n",
       "    <tr>\n",
       "      <th>2</th>\n",
       "      <td>2016-01-06 14:42:00</td>\n",
       "      <td>2016-01-06 15:49:00</td>\n",
       "      <td>Business</td>\n",
       "      <td>Fort Pierce</td>\n",
       "      <td>West Palm Beach</td>\n",
       "      <td>63.7</td>\n",
       "      <td>Customer Visit</td>\n",
       "      <td>$136.96</td>\n",
       "      <td>Jan</td>\n",
       "      <td>2</td>\n",
       "    </tr>\n",
       "    <tr>\n",
       "      <th>3</th>\n",
       "      <td>2016-01-06 17:15:00</td>\n",
       "      <td>2016-01-06 17:19:00</td>\n",
       "      <td>Business</td>\n",
       "      <td>West Palm Beach</td>\n",
       "      <td>West Palm Beach</td>\n",
       "      <td>4.3</td>\n",
       "      <td>Meal/Entertain</td>\n",
       "      <td>$9.25</td>\n",
       "      <td>Jan</td>\n",
       "      <td>2</td>\n",
       "    </tr>\n",
       "    <tr>\n",
       "      <th>4</th>\n",
       "      <td>2016-01-06 17:30:00</td>\n",
       "      <td>2016-01-06 17:35:00</td>\n",
       "      <td>Business</td>\n",
       "      <td>West Palm Beach</td>\n",
       "      <td>Palm Beach</td>\n",
       "      <td>7.1</td>\n",
       "      <td>Meeting</td>\n",
       "      <td>$15.27</td>\n",
       "      <td>Jan</td>\n",
       "      <td>2</td>\n",
       "    </tr>\n",
       "    <tr>\n",
       "      <th>...</th>\n",
       "      <td>...</td>\n",
       "      <td>...</td>\n",
       "      <td>...</td>\n",
       "      <td>...</td>\n",
       "      <td>...</td>\n",
       "      <td>...</td>\n",
       "      <td>...</td>\n",
       "      <td>...</td>\n",
       "      <td>...</td>\n",
       "      <td>...</td>\n",
       "    </tr>\n",
       "    <tr>\n",
       "      <th>566</th>\n",
       "      <td>2016-12-30 16:45:00</td>\n",
       "      <td>2016-12-30 17:08:00</td>\n",
       "      <td>Business</td>\n",
       "      <td>Karchi</td>\n",
       "      <td>Karchi</td>\n",
       "      <td>4.6</td>\n",
       "      <td>Meeting</td>\n",
       "      <td>$9.89</td>\n",
       "      <td>Dec</td>\n",
       "      <td>4</td>\n",
       "    </tr>\n",
       "    <tr>\n",
       "      <th>567</th>\n",
       "      <td>2016-12-30 23:06:00</td>\n",
       "      <td>2016-12-30 23:10:00</td>\n",
       "      <td>Business</td>\n",
       "      <td>Karchi</td>\n",
       "      <td>Karchi</td>\n",
       "      <td>0.8</td>\n",
       "      <td>Customer Visit</td>\n",
       "      <td>$1.72</td>\n",
       "      <td>Dec</td>\n",
       "      <td>4</td>\n",
       "    </tr>\n",
       "    <tr>\n",
       "      <th>568</th>\n",
       "      <td>2016-12-31 01:07:00</td>\n",
       "      <td>2016-12-31 01:14:00</td>\n",
       "      <td>Business</td>\n",
       "      <td>Karchi</td>\n",
       "      <td>Karchi</td>\n",
       "      <td>0.7</td>\n",
       "      <td>Meeting</td>\n",
       "      <td>$1.51</td>\n",
       "      <td>Dec</td>\n",
       "      <td>5</td>\n",
       "    </tr>\n",
       "    <tr>\n",
       "      <th>569</th>\n",
       "      <td>2016-12-31 21:32:00</td>\n",
       "      <td>2016-12-31 21:50:00</td>\n",
       "      <td>Business</td>\n",
       "      <td>Katunayake</td>\n",
       "      <td>Gampaha</td>\n",
       "      <td>6.4</td>\n",
       "      <td>Temporary Site</td>\n",
       "      <td>$13.76</td>\n",
       "      <td>Dec</td>\n",
       "      <td>5</td>\n",
       "    </tr>\n",
       "    <tr>\n",
       "      <th>570</th>\n",
       "      <td>2016-12-31 22:08:00</td>\n",
       "      <td>2016-12-31 23:51:00</td>\n",
       "      <td>Business</td>\n",
       "      <td>Gampaha</td>\n",
       "      <td>Ilukwatta</td>\n",
       "      <td>48.2</td>\n",
       "      <td>Temporary Site</td>\n",
       "      <td>$103.63</td>\n",
       "      <td>Dec</td>\n",
       "      <td>5</td>\n",
       "    </tr>\n",
       "  </tbody>\n",
       "</table>\n",
       "<p>571 rows × 10 columns</p>\n",
       "</div>"
      ],
      "text/plain": [
       "             START_DATE            END_DATE  CATEGORY            START  \\\n",
       "0   2016-01-02 20:25:00 2016-01-02 20:38:00  Business      Fort Pierce   \n",
       "1   2016-01-05 17:31:00 2016-01-05 17:45:00  Business      Fort Pierce   \n",
       "2   2016-01-06 14:42:00 2016-01-06 15:49:00  Business      Fort Pierce   \n",
       "3   2016-01-06 17:15:00 2016-01-06 17:19:00  Business  West Palm Beach   \n",
       "4   2016-01-06 17:30:00 2016-01-06 17:35:00  Business  West Palm Beach   \n",
       "..                  ...                 ...       ...              ...   \n",
       "566 2016-12-30 16:45:00 2016-12-30 17:08:00  Business           Karchi   \n",
       "567 2016-12-30 23:06:00 2016-12-30 23:10:00  Business           Karchi   \n",
       "568 2016-12-31 01:07:00 2016-12-31 01:14:00  Business           Karchi   \n",
       "569 2016-12-31 21:32:00 2016-12-31 21:50:00  Business       Katunayake   \n",
       "570 2016-12-31 22:08:00 2016-12-31 23:51:00  Business          Gampaha   \n",
       "\n",
       "                STOP  MILES          PURPOSE   SALARY MONTH  DAY_OF_THE_WEEK  \n",
       "0        Fort Pierce    4.8  Errand/Supplies   $10.32   Jan                5  \n",
       "1        Fort Pierce    4.7          Meeting   $10.11   Jan                1  \n",
       "2    West Palm Beach   63.7   Customer Visit  $136.96   Jan                2  \n",
       "3    West Palm Beach    4.3   Meal/Entertain    $9.25   Jan                2  \n",
       "4         Palm Beach    7.1          Meeting   $15.27   Jan                2  \n",
       "..               ...    ...              ...      ...   ...              ...  \n",
       "566           Karchi    4.6          Meeting    $9.89   Dec                4  \n",
       "567           Karchi    0.8   Customer Visit    $1.72   Dec                4  \n",
       "568           Karchi    0.7          Meeting    $1.51   Dec                5  \n",
       "569          Gampaha    6.4   Temporary Site   $13.76   Dec                5  \n",
       "570        Ilukwatta   48.2   Temporary Site  $103.63   Dec                5  \n",
       "\n",
       "[571 rows x 10 columns]"
      ]
     },
     "execution_count": 7,
     "metadata": {},
     "output_type": "execute_result"
    }
   ],
   "source": [
    "uber_df"
   ]
  },
  {
   "cell_type": "code",
   "execution_count": 8,
   "id": "5c480ace",
   "metadata": {},
   "outputs": [
    {
     "data": {
      "text/plain": [
       "START_DATE          datetime64[ns]\n",
       "END_DATE            datetime64[ns]\n",
       "CATEGORY                    object\n",
       "START                       object\n",
       "STOP                        object\n",
       "MILES                      float64\n",
       "PURPOSE                     object\n",
       "SALARY                      object\n",
       "MONTH                       object\n",
       "DAY_OF_THE_WEEK              int64\n",
       "DURATION           timedelta64[ns]\n",
       "dtype: object"
      ]
     },
     "execution_count": 8,
     "metadata": {},
     "output_type": "execute_result"
    }
   ],
   "source": [
    "#Calculating duration of each ride\n",
    "uber_df['DURATION'] = uber_df['END_DATE'] - uber_df['START_DATE']\n",
    "uber_df.dtypes"
   ]
  },
  {
   "cell_type": "code",
   "execution_count": 9,
   "id": "06cb48d4",
   "metadata": {},
   "outputs": [
    {
     "data": {
      "text/html": [
       "<div>\n",
       "<style scoped>\n",
       "    .dataframe tbody tr th:only-of-type {\n",
       "        vertical-align: middle;\n",
       "    }\n",
       "\n",
       "    .dataframe tbody tr th {\n",
       "        vertical-align: top;\n",
       "    }\n",
       "\n",
       "    .dataframe thead th {\n",
       "        text-align: right;\n",
       "    }\n",
       "</style>\n",
       "<table border=\"1\" class=\"dataframe\">\n",
       "  <thead>\n",
       "    <tr style=\"text-align: right;\">\n",
       "      <th></th>\n",
       "      <th>START_DATE</th>\n",
       "      <th>END_DATE</th>\n",
       "      <th>CATEGORY</th>\n",
       "      <th>START</th>\n",
       "      <th>STOP</th>\n",
       "      <th>MILES</th>\n",
       "      <th>PURPOSE</th>\n",
       "      <th>SALARY</th>\n",
       "      <th>MONTH</th>\n",
       "      <th>DAY_OF_THE_WEEK</th>\n",
       "      <th>DURATION</th>\n",
       "    </tr>\n",
       "  </thead>\n",
       "  <tbody>\n",
       "    <tr>\n",
       "      <th>0</th>\n",
       "      <td>2016-01-02 20:25:00</td>\n",
       "      <td>2016-01-02 20:38:00</td>\n",
       "      <td>Business</td>\n",
       "      <td>Fort Pierce</td>\n",
       "      <td>Fort Pierce</td>\n",
       "      <td>4.8</td>\n",
       "      <td>Errand/Supplies</td>\n",
       "      <td>$10.32</td>\n",
       "      <td>Jan</td>\n",
       "      <td>5</td>\n",
       "      <td>0 days 00:13:00</td>\n",
       "    </tr>\n",
       "    <tr>\n",
       "      <th>1</th>\n",
       "      <td>2016-01-05 17:31:00</td>\n",
       "      <td>2016-01-05 17:45:00</td>\n",
       "      <td>Business</td>\n",
       "      <td>Fort Pierce</td>\n",
       "      <td>Fort Pierce</td>\n",
       "      <td>4.7</td>\n",
       "      <td>Meeting</td>\n",
       "      <td>$10.11</td>\n",
       "      <td>Jan</td>\n",
       "      <td>1</td>\n",
       "      <td>0 days 00:14:00</td>\n",
       "    </tr>\n",
       "    <tr>\n",
       "      <th>2</th>\n",
       "      <td>2016-01-06 14:42:00</td>\n",
       "      <td>2016-01-06 15:49:00</td>\n",
       "      <td>Business</td>\n",
       "      <td>Fort Pierce</td>\n",
       "      <td>West Palm Beach</td>\n",
       "      <td>63.7</td>\n",
       "      <td>Customer Visit</td>\n",
       "      <td>$136.96</td>\n",
       "      <td>Jan</td>\n",
       "      <td>2</td>\n",
       "      <td>0 days 01:07:00</td>\n",
       "    </tr>\n",
       "    <tr>\n",
       "      <th>3</th>\n",
       "      <td>2016-01-06 17:15:00</td>\n",
       "      <td>2016-01-06 17:19:00</td>\n",
       "      <td>Business</td>\n",
       "      <td>West Palm Beach</td>\n",
       "      <td>West Palm Beach</td>\n",
       "      <td>4.3</td>\n",
       "      <td>Meal/Entertain</td>\n",
       "      <td>$9.25</td>\n",
       "      <td>Jan</td>\n",
       "      <td>2</td>\n",
       "      <td>0 days 00:04:00</td>\n",
       "    </tr>\n",
       "    <tr>\n",
       "      <th>4</th>\n",
       "      <td>2016-01-06 17:30:00</td>\n",
       "      <td>2016-01-06 17:35:00</td>\n",
       "      <td>Business</td>\n",
       "      <td>West Palm Beach</td>\n",
       "      <td>Palm Beach</td>\n",
       "      <td>7.1</td>\n",
       "      <td>Meeting</td>\n",
       "      <td>$15.27</td>\n",
       "      <td>Jan</td>\n",
       "      <td>2</td>\n",
       "      <td>0 days 00:05:00</td>\n",
       "    </tr>\n",
       "    <tr>\n",
       "      <th>...</th>\n",
       "      <td>...</td>\n",
       "      <td>...</td>\n",
       "      <td>...</td>\n",
       "      <td>...</td>\n",
       "      <td>...</td>\n",
       "      <td>...</td>\n",
       "      <td>...</td>\n",
       "      <td>...</td>\n",
       "      <td>...</td>\n",
       "      <td>...</td>\n",
       "      <td>...</td>\n",
       "    </tr>\n",
       "    <tr>\n",
       "      <th>566</th>\n",
       "      <td>2016-12-30 16:45:00</td>\n",
       "      <td>2016-12-30 17:08:00</td>\n",
       "      <td>Business</td>\n",
       "      <td>Karchi</td>\n",
       "      <td>Karchi</td>\n",
       "      <td>4.6</td>\n",
       "      <td>Meeting</td>\n",
       "      <td>$9.89</td>\n",
       "      <td>Dec</td>\n",
       "      <td>4</td>\n",
       "      <td>0 days 00:23:00</td>\n",
       "    </tr>\n",
       "    <tr>\n",
       "      <th>567</th>\n",
       "      <td>2016-12-30 23:06:00</td>\n",
       "      <td>2016-12-30 23:10:00</td>\n",
       "      <td>Business</td>\n",
       "      <td>Karchi</td>\n",
       "      <td>Karchi</td>\n",
       "      <td>0.8</td>\n",
       "      <td>Customer Visit</td>\n",
       "      <td>$1.72</td>\n",
       "      <td>Dec</td>\n",
       "      <td>4</td>\n",
       "      <td>0 days 00:04:00</td>\n",
       "    </tr>\n",
       "    <tr>\n",
       "      <th>568</th>\n",
       "      <td>2016-12-31 01:07:00</td>\n",
       "      <td>2016-12-31 01:14:00</td>\n",
       "      <td>Business</td>\n",
       "      <td>Karchi</td>\n",
       "      <td>Karchi</td>\n",
       "      <td>0.7</td>\n",
       "      <td>Meeting</td>\n",
       "      <td>$1.51</td>\n",
       "      <td>Dec</td>\n",
       "      <td>5</td>\n",
       "      <td>0 days 00:07:00</td>\n",
       "    </tr>\n",
       "    <tr>\n",
       "      <th>569</th>\n",
       "      <td>2016-12-31 21:32:00</td>\n",
       "      <td>2016-12-31 21:50:00</td>\n",
       "      <td>Business</td>\n",
       "      <td>Katunayake</td>\n",
       "      <td>Gampaha</td>\n",
       "      <td>6.4</td>\n",
       "      <td>Temporary Site</td>\n",
       "      <td>$13.76</td>\n",
       "      <td>Dec</td>\n",
       "      <td>5</td>\n",
       "      <td>0 days 00:18:00</td>\n",
       "    </tr>\n",
       "    <tr>\n",
       "      <th>570</th>\n",
       "      <td>2016-12-31 22:08:00</td>\n",
       "      <td>2016-12-31 23:51:00</td>\n",
       "      <td>Business</td>\n",
       "      <td>Gampaha</td>\n",
       "      <td>Ilukwatta</td>\n",
       "      <td>48.2</td>\n",
       "      <td>Temporary Site</td>\n",
       "      <td>$103.63</td>\n",
       "      <td>Dec</td>\n",
       "      <td>5</td>\n",
       "      <td>0 days 01:43:00</td>\n",
       "    </tr>\n",
       "  </tbody>\n",
       "</table>\n",
       "<p>571 rows × 11 columns</p>\n",
       "</div>"
      ],
      "text/plain": [
       "             START_DATE            END_DATE  CATEGORY            START  \\\n",
       "0   2016-01-02 20:25:00 2016-01-02 20:38:00  Business      Fort Pierce   \n",
       "1   2016-01-05 17:31:00 2016-01-05 17:45:00  Business      Fort Pierce   \n",
       "2   2016-01-06 14:42:00 2016-01-06 15:49:00  Business      Fort Pierce   \n",
       "3   2016-01-06 17:15:00 2016-01-06 17:19:00  Business  West Palm Beach   \n",
       "4   2016-01-06 17:30:00 2016-01-06 17:35:00  Business  West Palm Beach   \n",
       "..                  ...                 ...       ...              ...   \n",
       "566 2016-12-30 16:45:00 2016-12-30 17:08:00  Business           Karchi   \n",
       "567 2016-12-30 23:06:00 2016-12-30 23:10:00  Business           Karchi   \n",
       "568 2016-12-31 01:07:00 2016-12-31 01:14:00  Business           Karchi   \n",
       "569 2016-12-31 21:32:00 2016-12-31 21:50:00  Business       Katunayake   \n",
       "570 2016-12-31 22:08:00 2016-12-31 23:51:00  Business          Gampaha   \n",
       "\n",
       "                STOP  MILES          PURPOSE   SALARY MONTH  DAY_OF_THE_WEEK  \\\n",
       "0        Fort Pierce    4.8  Errand/Supplies   $10.32   Jan                5   \n",
       "1        Fort Pierce    4.7          Meeting   $10.11   Jan                1   \n",
       "2    West Palm Beach   63.7   Customer Visit  $136.96   Jan                2   \n",
       "3    West Palm Beach    4.3   Meal/Entertain    $9.25   Jan                2   \n",
       "4         Palm Beach    7.1          Meeting   $15.27   Jan                2   \n",
       "..               ...    ...              ...      ...   ...              ...   \n",
       "566           Karchi    4.6          Meeting    $9.89   Dec                4   \n",
       "567           Karchi    0.8   Customer Visit    $1.72   Dec                4   \n",
       "568           Karchi    0.7          Meeting    $1.51   Dec                5   \n",
       "569          Gampaha    6.4   Temporary Site   $13.76   Dec                5   \n",
       "570        Ilukwatta   48.2   Temporary Site  $103.63   Dec                5   \n",
       "\n",
       "           DURATION  \n",
       "0   0 days 00:13:00  \n",
       "1   0 days 00:14:00  \n",
       "2   0 days 01:07:00  \n",
       "3   0 days 00:04:00  \n",
       "4   0 days 00:05:00  \n",
       "..              ...  \n",
       "566 0 days 00:23:00  \n",
       "567 0 days 00:04:00  \n",
       "568 0 days 00:07:00  \n",
       "569 0 days 00:18:00  \n",
       "570 0 days 01:43:00  \n",
       "\n",
       "[571 rows x 11 columns]"
      ]
     },
     "execution_count": 9,
     "metadata": {},
     "output_type": "execute_result"
    }
   ],
   "source": [
    "uber_df"
   ]
  },
  {
   "cell_type": "code",
   "execution_count": 10,
   "id": "80eaa176",
   "metadata": {
    "scrolled": true
   },
   "outputs": [
    {
     "name": "stdout",
     "output_type": "stream",
     "text": [
      "<class 'pandas.core.frame.DataFrame'>\n",
      "RangeIndex: 571 entries, 0 to 570\n",
      "Data columns (total 11 columns):\n",
      " #   Column           Non-Null Count  Dtype          \n",
      "---  ------           --------------  -----          \n",
      " 0   START_DATE       571 non-null    datetime64[ns] \n",
      " 1   END_DATE         571 non-null    datetime64[ns] \n",
      " 2   CATEGORY         571 non-null    object         \n",
      " 3   START            571 non-null    object         \n",
      " 4   STOP             571 non-null    object         \n",
      " 5   MILES            571 non-null    float64        \n",
      " 6   PURPOSE          571 non-null    object         \n",
      " 7   SALARY           571 non-null    object         \n",
      " 8   MONTH            571 non-null    object         \n",
      " 9   DAY_OF_THE_WEEK  571 non-null    int64          \n",
      " 10  DURATION         571 non-null    timedelta64[ns]\n",
      "dtypes: datetime64[ns](2), float64(1), int64(1), object(6), timedelta64[ns](1)\n",
      "memory usage: 49.2+ KB\n"
     ]
    }
   ],
   "source": [
    "uber_df.info()"
   ]
  },
  {
   "cell_type": "code",
   "execution_count": 11,
   "id": "6e4e908f",
   "metadata": {},
   "outputs": [
    {
     "data": {
      "text/html": [
       "<div>\n",
       "<style scoped>\n",
       "    .dataframe tbody tr th:only-of-type {\n",
       "        vertical-align: middle;\n",
       "    }\n",
       "\n",
       "    .dataframe tbody tr th {\n",
       "        vertical-align: top;\n",
       "    }\n",
       "\n",
       "    .dataframe thead th {\n",
       "        text-align: right;\n",
       "    }\n",
       "</style>\n",
       "<table border=\"1\" class=\"dataframe\">\n",
       "  <thead>\n",
       "    <tr style=\"text-align: right;\">\n",
       "      <th></th>\n",
       "      <th>MILES</th>\n",
       "      <th>DAY_OF_THE_WEEK</th>\n",
       "      <th>DURATION</th>\n",
       "    </tr>\n",
       "  </thead>\n",
       "  <tbody>\n",
       "    <tr>\n",
       "      <th>count</th>\n",
       "      <td>571.000000</td>\n",
       "      <td>571.000000</td>\n",
       "      <td>571</td>\n",
       "    </tr>\n",
       "    <tr>\n",
       "      <th>mean</th>\n",
       "      <td>11.248862</td>\n",
       "      <td>3.042032</td>\n",
       "      <td>0 days 00:22:31.313485113</td>\n",
       "    </tr>\n",
       "    <tr>\n",
       "      <th>std</th>\n",
       "      <td>24.123120</td>\n",
       "      <td>1.963255</td>\n",
       "      <td>0 days 00:25:47.681069465</td>\n",
       "    </tr>\n",
       "    <tr>\n",
       "      <th>min</th>\n",
       "      <td>0.500000</td>\n",
       "      <td>0.000000</td>\n",
       "      <td>0 days 00:02:00</td>\n",
       "    </tr>\n",
       "    <tr>\n",
       "      <th>25%</th>\n",
       "      <td>3.100000</td>\n",
       "      <td>1.000000</td>\n",
       "      <td>0 days 00:11:00</td>\n",
       "    </tr>\n",
       "    <tr>\n",
       "      <th>50%</th>\n",
       "      <td>6.200000</td>\n",
       "      <td>3.000000</td>\n",
       "      <td>0 days 00:17:00</td>\n",
       "    </tr>\n",
       "    <tr>\n",
       "      <th>75%</th>\n",
       "      <td>10.400000</td>\n",
       "      <td>5.000000</td>\n",
       "      <td>0 days 00:25:00</td>\n",
       "    </tr>\n",
       "    <tr>\n",
       "      <th>max</th>\n",
       "      <td>310.300000</td>\n",
       "      <td>6.000000</td>\n",
       "      <td>0 days 05:30:00</td>\n",
       "    </tr>\n",
       "  </tbody>\n",
       "</table>\n",
       "</div>"
      ],
      "text/plain": [
       "            MILES  DAY_OF_THE_WEEK                   DURATION\n",
       "count  571.000000       571.000000                        571\n",
       "mean    11.248862         3.042032  0 days 00:22:31.313485113\n",
       "std     24.123120         1.963255  0 days 00:25:47.681069465\n",
       "min      0.500000         0.000000            0 days 00:02:00\n",
       "25%      3.100000         1.000000            0 days 00:11:00\n",
       "50%      6.200000         3.000000            0 days 00:17:00\n",
       "75%     10.400000         5.000000            0 days 00:25:00\n",
       "max    310.300000         6.000000            0 days 05:30:00"
      ]
     },
     "execution_count": 11,
     "metadata": {},
     "output_type": "execute_result"
    }
   ],
   "source": [
    "uber_df.describe()"
   ]
  },
  {
   "cell_type": "code",
   "execution_count": 12,
   "id": "a6d43f1a",
   "metadata": {
    "scrolled": true
   },
   "outputs": [
    {
     "data": {
      "text/plain": [
       "array(['Business', 'Personal'], dtype=object)"
      ]
     },
     "execution_count": 12,
     "metadata": {},
     "output_type": "execute_result"
    }
   ],
   "source": [
    "uber_df['CATEGORY'].unique()"
   ]
  },
  {
   "cell_type": "code",
   "execution_count": 13,
   "id": "86742fcc",
   "metadata": {},
   "outputs": [
    {
     "data": {
      "text/plain": [
       "565"
      ]
     },
     "execution_count": 13,
     "metadata": {},
     "output_type": "execute_result"
    }
   ],
   "source": [
    "sum(uber_df['CATEGORY']=='Business')"
   ]
  },
  {
   "cell_type": "code",
   "execution_count": 14,
   "id": "c808597b",
   "metadata": {},
   "outputs": [
    {
     "data": {
      "text/plain": [
       "6"
      ]
     },
     "execution_count": 14,
     "metadata": {},
     "output_type": "execute_result"
    }
   ],
   "source": [
    "sum(uber_df['CATEGORY']=='Personal')"
   ]
  },
  {
   "cell_type": "code",
   "execution_count": 15,
   "id": "edaa1aaf",
   "metadata": {},
   "outputs": [
    {
     "data": {
      "text/plain": [
       "CATEGORY\n",
       "Business    6209.6\n",
       "Personal     213.5\n",
       "Name: MILES, dtype: float64"
      ]
     },
     "execution_count": 15,
     "metadata": {},
     "output_type": "execute_result"
    }
   ],
   "source": [
    "uber_total_count = uber_df.groupby(['CATEGORY']).sum()['MILES']\n",
    "uber_total_count"
   ]
  },
  {
   "cell_type": "code",
   "execution_count": 16,
   "id": "9689cf71",
   "metadata": {},
   "outputs": [
    {
     "data": {
      "text/plain": [
       "6423.1"
      ]
     },
     "execution_count": 16,
     "metadata": {},
     "output_type": "execute_result"
    }
   ],
   "source": [
    "uber_df['MILES'].sum()"
   ]
  },
  {
   "cell_type": "code",
   "execution_count": 17,
   "id": "4818e885",
   "metadata": {},
   "outputs": [],
   "source": [
    "#salary column was calculated as $2.15 per mile\n",
    "#ask Steven"
   ]
  },
  {
   "cell_type": "code",
   "execution_count": 18,
   "id": "37ec3b80",
   "metadata": {},
   "outputs": [
    {
     "data": {
      "text/plain": [
       "'$10.32$10.11$136.96$9.25$15.27$1.72$17.85$35.48$23.22$16.13$13.33$13.76$3.44$3.66$4.09$4.09$8.60$3.87$5.16$4.30$32.47$24.08$25.37$47.09$8.39$17.20$22.36$22.36$10.32$10.11$16.34$36.77$32.47$86.43$3.44$5.16$2.15$4.30$4.95$4.09$3.01$1.08$3.87$40.21$7.31$5.81$27.74$40.85$31.61$33.76$9.89$11.18$22.36$21.72$12.47$11.83$12.26$12.26$41.71$50.10$8.39$17.85$12.90$3.44$11.18$20.86$3.44$2.37$3.44$19.35$16.56$22.36$22.36$24.51$19.35$6.88$12.04$12.26$13.12$13.12$9.25$5.81$13.12$37.20$12.26$29.03$13.12$18.28$5.59$36.55$38.70$18.06$24.73$19.14$17.42$4.30$27.95$29.89$3.87$2.37$3.66$46.01$1.08$49.67$9.89$17.42$17.42$3.66$6.67$6.88$12.90$12.47$22.79$21.29$16.56$14.62$8.17$12.04$14.19$17.20$17.20$4.95$11.18$16.34$37.20$21.29$21.29$22.36$23.44$33.76$10.54$1.72$29.03$4.09$4.30$13.98$16.77$16.77$8.39$6.02$26.66$12.69$20.21$25.59$15.48$16.34$18.06$27.52$4.30$12.26$18.06$13.33$22.58$15.48$4.30$4.30$6.02$3.66$4.52$292.40$64.93$33.33$2.37$2.37$28.38$2.15$19.78$20.21$25.80$75.47$78.48$6.67$4.52$16.13$122.55$12.69$13.33$20.64$1.94$55.04$49.45$309.60$667.15$432.15$4.52$14.19$13.12$61.92$34.62$35.26$23.65$33.33$43.65$166.20$173.08$374.53$309.60$342.50$16.99$17.20$13.12$13.12$22.58$18.71$3.87$41.07$39.99$6.02$19.14$16.13$34.19$13.98$32.90$29.46$25.59$3.01$32.68$12.90$13.12$17.63$17.20$29.24$48.38$22.36$21.50$12.90$13.98$6.67$4.09$9.03$10.54$10.32$26.66$70.52$11.83$21.29$21.50$30.53$39.13$16.56$4.52$13.33$16.13$6.67$4.73$8.39$5.38$18.71$31.18$9.68$10.75$30.53$6.24$27.74$30.96$36.55$16.99$18.06$44.08$21.07$37.84$20.00$16.99$55.04$17.42$6.67$6.67$6.02$5.81$4.09$18.06$16.34$6.24$24.08$17.63$6.45$5.38$7.74$7.74$9.68$3.66$10.11$13.12$24.30$32.04$30.10$14.41$20.64$22.36$21.29$12.90$7.10$6.67$3.66$8.60$16.77$16.77$8.17$5.38$21.29$21.29$6.45$5.16$12.26$15.48$22.36$21.29$22.36$21.29$18.71$47.95$7.10$1.51$5.38$1.08$1.94$10.32$35.05$22.36$21.29$7.96$9.89$22.36$21.29$5.38$9.25$6.02$18.06$28.38$8.39$10.97$24.94$10.97$20.00$26.66$4.09$13.76$3.23$35.69$15.27$4.52$18.49$19.35$6.67$18.06$25.37$2.37$36.55$3.66$33.33$27.09$17.63$22.36$21.29$21.29$22.36$21.29$21.29$21.29$28.60$24.30$22.58$21.29$21.72$21.29$6.67$6.67$21.29$21.29$18.92$18.71$25.37$2.58$21.29$1.29$13.55$21.29$7.10$6.67$16.99$25.37$9.46$32.47$387.43$8.82$13.12$7.10$10.11$15.48$11.83$7.10$1.94$8.17$13.76$6.45$18.71$8.39$21.29$13.12$22.36$21.29$5.38$5.38$4.73$18.06$5.81$5.38$5.81$6.88$18.06$22.58$4.52$5.38$16.99$6.67$6.67$7.74$18.71$4.52$18.06$22.36$21.29$230.05$287.24$197.37$87.51$20.64$9.03$18.28$6.67$6.67$16.99$6.02$94.39$25.37$28.38$26.23$24.30$11.83$27.31$27.09$21.29$12.90$98.69$78.69$12.69$7.96$8.60$95.89$93.74$7.96$20.86$25.37$4.95$6.67$35.05$6.67$11.18$13.12$22.15$22.58$11.61$11.61$84.28$13.76$5.81$39.78$5.38$4.52$7.31$11.83$8.82$27.31$6.45$7.53$12.69$22.15$23.87$10.97$19.35$28.60$5.38$7.10$18.28$14.41$11.83$11.83$6.24$6.24$10.97$11.40$7.10$6.45$14.19$6.45$6.24$7.31$8.17$14.19$8.60$15.05$14.84$7.31$7.31$4.30$4.30$10.97$18.92$12.04$40.64$33.54$33.54$6.45$6.67$6.45$10.32$4.52$6.67$9.46$10.11$6.45$6.45$9.03$8.82$6.45$6.67$22.79$12.69$15.48$7.10$3.87$3.01$4.52$4.52$4.52$6.45$11.40$3.44$7.74$3.66$6.24$1.29$1.29$4.95$4.95$6.88$13.33$16.56$8.17$10.54$10.75$1.29$11.83$4.30$8.17$10.97$8.17$3.01$2.37$8.82$13.12$2.80$15.48$6.02$6.24$9.89$9.89$1.72$1.51$13.76$103.63'"
      ]
     },
     "execution_count": 18,
     "metadata": {},
     "output_type": "execute_result"
    }
   ],
   "source": [
    "uber_df['SALARY'].sum()"
   ]
  },
  {
   "cell_type": "code",
   "execution_count": 19,
   "id": "256afa79",
   "metadata": {},
   "outputs": [
    {
     "data": {
      "text/plain": [
       "Timedelta('8 days 22:20:00')"
      ]
     },
     "execution_count": 19,
     "metadata": {},
     "output_type": "execute_result"
    }
   ],
   "source": [
    "uber_df['DURATION'].sum()"
   ]
  },
  {
   "cell_type": "code",
   "execution_count": 20,
   "id": "ca5ffe56",
   "metadata": {},
   "outputs": [
    {
     "data": {
      "text/plain": [
       "array(['Errand/Supplies', 'Meeting', 'Customer Visit', 'Meal/Entertain',\n",
       "       'Temporary Site', 'Between Offices', 'Charity ($)', 'Commute',\n",
       "       'Moving', 'Airport/Travel'], dtype=object)"
      ]
     },
     "execution_count": 20,
     "metadata": {},
     "output_type": "execute_result"
    }
   ],
   "source": [
    "uber_df['PURPOSE'].unique()"
   ]
  },
  {
   "cell_type": "code",
   "execution_count": 21,
   "id": "dc56a62e",
   "metadata": {},
   "outputs": [
    {
     "data": {
      "text/plain": [
       "PURPOSE\n",
       "Airport/Travel        4.1\n",
       "Between Offices     197.0\n",
       "Charity ($)          15.1\n",
       "Commute             180.2\n",
       "Customer Visit     1995.2\n",
       "Errand/Supplies     430.9\n",
       "Meal/Entertain      819.2\n",
       "Meeting            2435.2\n",
       "Moving               18.2\n",
       "Temporary Site      328.0\n",
       "Name: MILES, dtype: float64"
      ]
     },
     "execution_count": 21,
     "metadata": {},
     "output_type": "execute_result"
    }
   ],
   "source": [
    "uber_ride_count = uber_df.groupby(['PURPOSE']).sum()['MILES']\n",
    "uber_ride_count"
   ]
  },
  {
   "cell_type": "code",
   "execution_count": 22,
   "id": "e955a42c",
   "metadata": {
    "scrolled": true
   },
   "outputs": [
    {
     "data": {
      "image/png": "[encoded data removed]",
      "text/plain": [
       "<Figure size 432x288 with 1 Axes>"
      ]
     },
     "metadata": {
      "needs_background": "light"
     },
     "output_type": "display_data"
    }
   ],
   "source": [
    "purpose_labels = uber_df.PURPOSE.value_counts().nlargest(10)\n",
    "sns.barplot(x=purpose_labels.index, y=purpose_labels);\n",
    "plt.ylabel('Total Rides');\n",
    "plt.xticks(rotation=90);"
   ]
  },
  {
   "cell_type": "code",
   "execution_count": 23,
   "id": "80db5c15",
   "metadata": {},
   "outputs": [
    {
     "data": {
      "image/png": "[encoded data removed]",
      "text/plain": [
       "<Figure size 432x288 with 1 Axes>"
      ]
     },
     "metadata": {
      "needs_background": "light"
     },
     "output_type": "display_data"
    }
   ],
   "source": [
    "sns.countplot(x=uber_df['CATEGORY']);"
   ]
  },
  {
   "cell_type": "code",
   "execution_count": 24,
   "id": "c3bf9a6f",
   "metadata": {
    "scrolled": true
   },
   "outputs": [
    {
     "data": {
      "image/png": "[encoded data removed]",
      "text/plain": [
       "<Figure size 432x288 with 1 Axes>"
      ]
     },
     "metadata": {
      "needs_background": "light"
     },
     "output_type": "display_data"
    }
   ],
   "source": [
    "sns.countplot(x=uber_df['PURPOSE']);\n",
    "plt.ylabel('Total Rides');\n",
    "plt.xticks(rotation=90);"
   ]
  },
  {
   "cell_type": "code",
   "execution_count": 25,
   "id": "70a8728b",
   "metadata": {},
   "outputs": [
    {
     "data": {
      "image/png": "[encoded data removed]",
      "text/plain": [
       "<Figure size 432x288 with 1 Axes>"
      ]
     },
     "metadata": {
      "needs_background": "light"
     },
     "output_type": "display_data"
    }
   ],
   "source": [
    "sns.countplot(x=uber_df['DAY_OF_THE_WEEK']);"
   ]
  },
  {
   "cell_type": "code",
   "execution_count": 26,
   "id": "9c92b70d",
   "metadata": {},
   "outputs": [
    {
     "data": {
      "image/png": "[encoded data removed]",
      "text/plain": [
       "<Figure size 432x288 with 1 Axes>"
      ]
     },
     "metadata": {
      "needs_background": "light"
     },
     "output_type": "display_data"
    }
   ],
   "source": [
    "sns.countplot(x=uber_df['MONTH']);"
   ]
  },
  {
   "cell_type": "code",
   "execution_count": null,
   "id": "423bd150",
   "metadata": {},
   "outputs": [],
   "source": []
  }
 ],
 "metadata": {
  "kernelspec": {
   "display_name": "Python 3 (ipykernel)",
   "language": "python",
   "name": "python3"
  },
  "language_info": {
   "codemirror_mode": {
    "name": "ipython",
    "version": 3
   },
   "file_extension": ".py",
   "mimetype": "text/x-python",
   "name": "python",
   "nbconvert_exporter": "python",
   "pygments_lexer": "ipython3",
   "version": "3.9.7"
  }
 },
 "nbformat": 4,
 "nbformat_minor": 5
}

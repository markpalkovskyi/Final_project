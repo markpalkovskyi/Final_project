{
 "cells": [
  {
   "cell_type": "code",
   "execution_count": 1,
   "id": "90ec1c0f",
   "metadata": {},
   "outputs": [],
   "source": [
    "import pandas as pd\n",
    "import os\n",
    "import matplotlib.pyplot as plt\n",
    "%matplotlib inline\n",
    "import seaborn as sns\n",
    "import numpy as np"
   ]
  },
  {
   "cell_type": "code",
   "execution_count": 2,
   "id": "45dff16b",
   "metadata": {
    "scrolled": true
   },
   "outputs": [
    {
     "data": {
      "text/html": [
       "<div>\n",
       "<style scoped>\n",
       "    .dataframe tbody tr th:only-of-type {\n",
       "        vertical-align: middle;\n",
       "    }\n",
       "\n",
       "    .dataframe tbody tr th {\n",
       "        vertical-align: top;\n",
       "    }\n",
       "\n",
       "    .dataframe thead th {\n",
       "        text-align: right;\n",
       "    }\n",
       "</style>\n",
       "<table border=\"1\" class=\"dataframe\">\n",
       "  <thead>\n",
       "    <tr style=\"text-align: right;\">\n",
       "      <th></th>\n",
       "      <th>START_DATE</th>\n",
       "      <th>END_DATE</th>\n",
       "      <th>CATEGORY</th>\n",
       "      <th>START</th>\n",
       "      <th>STOP</th>\n",
       "      <th>MILES</th>\n",
       "      <th>PURPOSE</th>\n",
       "      <th>SALARY</th>\n",
       "    </tr>\n",
       "  </thead>\n",
       "  <tbody>\n",
       "    <tr>\n",
       "      <th>0</th>\n",
       "      <td>1/2/16 20:25</td>\n",
       "      <td>1/2/16 20:38</td>\n",
       "      <td>Business</td>\n",
       "      <td>Fort Pierce</td>\n",
       "      <td>Fort Pierce</td>\n",
       "      <td>4.8</td>\n",
       "      <td>Errand/Supplies</td>\n",
       "      <td>$10.32</td>\n",
       "    </tr>\n",
       "    <tr>\n",
       "      <th>1</th>\n",
       "      <td>1/5/16 17:31</td>\n",
       "      <td>1/5/16 17:45</td>\n",
       "      <td>Business</td>\n",
       "      <td>Fort Pierce</td>\n",
       "      <td>Fort Pierce</td>\n",
       "      <td>4.7</td>\n",
       "      <td>Meeting</td>\n",
       "      <td>$10.11</td>\n",
       "    </tr>\n",
       "    <tr>\n",
       "      <th>2</th>\n",
       "      <td>1/6/16 14:42</td>\n",
       "      <td>1/6/16 15:49</td>\n",
       "      <td>Business</td>\n",
       "      <td>Fort Pierce</td>\n",
       "      <td>West Palm Beach</td>\n",
       "      <td>63.7</td>\n",
       "      <td>Customer Visit</td>\n",
       "      <td>$136.96</td>\n",
       "    </tr>\n",
       "    <tr>\n",
       "      <th>3</th>\n",
       "      <td>1/6/16 17:15</td>\n",
       "      <td>1/6/16 17:19</td>\n",
       "      <td>Business</td>\n",
       "      <td>West Palm Beach</td>\n",
       "      <td>West Palm Beach</td>\n",
       "      <td>4.3</td>\n",
       "      <td>Meal/Entertain</td>\n",
       "      <td>$9.25</td>\n",
       "    </tr>\n",
       "    <tr>\n",
       "      <th>4</th>\n",
       "      <td>1/6/16 17:30</td>\n",
       "      <td>1/6/16 17:35</td>\n",
       "      <td>Business</td>\n",
       "      <td>West Palm Beach</td>\n",
       "      <td>Palm Beach</td>\n",
       "      <td>7.1</td>\n",
       "      <td>Meeting</td>\n",
       "      <td>$15.27</td>\n",
       "    </tr>\n",
       "    <tr>\n",
       "      <th>...</th>\n",
       "      <td>...</td>\n",
       "      <td>...</td>\n",
       "      <td>...</td>\n",
       "      <td>...</td>\n",
       "      <td>...</td>\n",
       "      <td>...</td>\n",
       "      <td>...</td>\n",
       "      <td>...</td>\n",
       "    </tr>\n",
       "    <tr>\n",
       "      <th>566</th>\n",
       "      <td>12/30/16 16:45</td>\n",
       "      <td>12/30/16 17:08</td>\n",
       "      <td>Business</td>\n",
       "      <td>Karchi</td>\n",
       "      <td>Karchi</td>\n",
       "      <td>4.6</td>\n",
       "      <td>Meeting</td>\n",
       "      <td>$9.89</td>\n",
       "    </tr>\n",
       "    <tr>\n",
       "      <th>567</th>\n",
       "      <td>12/30/16 23:06</td>\n",
       "      <td>12/30/16 23:10</td>\n",
       "      <td>Business</td>\n",
       "      <td>Karchi</td>\n",
       "      <td>Karchi</td>\n",
       "      <td>0.8</td>\n",
       "      <td>Customer Visit</td>\n",
       "      <td>$1.72</td>\n",
       "    </tr>\n",
       "    <tr>\n",
       "      <th>568</th>\n",
       "      <td>12/31/16 1:07</td>\n",
       "      <td>12/31/16 1:14</td>\n",
       "      <td>Business</td>\n",
       "      <td>Karchi</td>\n",
       "      <td>Karchi</td>\n",
       "      <td>0.7</td>\n",
       "      <td>Meeting</td>\n",
       "      <td>$1.51</td>\n",
       "    </tr>\n",
       "    <tr>\n",
       "      <th>569</th>\n",
       "      <td>12/31/16 21:32</td>\n",
       "      <td>12/31/16 21:50</td>\n",
       "      <td>Business</td>\n",
       "      <td>Katunayake</td>\n",
       "      <td>Gampaha</td>\n",
       "      <td>6.4</td>\n",
       "      <td>Temporary Site</td>\n",
       "      <td>$13.76</td>\n",
       "    </tr>\n",
       "    <tr>\n",
       "      <th>570</th>\n",
       "      <td>12/31/16 22:08</td>\n",
       "      <td>12/31/16 23:51</td>\n",
       "      <td>Business</td>\n",
       "      <td>Gampaha</td>\n",
       "      <td>Ilukwatta</td>\n",
       "      <td>48.2</td>\n",
       "      <td>Temporary Site</td>\n",
       "      <td>$103.63</td>\n",
       "    </tr>\n",
       "  </tbody>\n",
       "</table>\n",
       "<p>571 rows × 8 columns</p>\n",
       "</div>"
      ],
      "text/plain": [
       "         START_DATE        END_DATE  CATEGORY            START  \\\n",
       "0      1/2/16 20:25    1/2/16 20:38  Business      Fort Pierce   \n",
       "1      1/5/16 17:31    1/5/16 17:45  Business      Fort Pierce   \n",
       "2      1/6/16 14:42    1/6/16 15:49  Business      Fort Pierce   \n",
       "3      1/6/16 17:15    1/6/16 17:19  Business  West Palm Beach   \n",
       "4      1/6/16 17:30    1/6/16 17:35  Business  West Palm Beach   \n",
       "..              ...             ...       ...              ...   \n",
       "566  12/30/16 16:45  12/30/16 17:08  Business           Karchi   \n",
       "567  12/30/16 23:06  12/30/16 23:10  Business           Karchi   \n",
       "568   12/31/16 1:07   12/31/16 1:14  Business           Karchi   \n",
       "569  12/31/16 21:32  12/31/16 21:50  Business       Katunayake   \n",
       "570  12/31/16 22:08  12/31/16 23:51  Business          Gampaha   \n",
       "\n",
       "                STOP  MILES          PURPOSE   SALARY  \n",
       "0        Fort Pierce    4.8  Errand/Supplies   $10.32  \n",
       "1        Fort Pierce    4.7          Meeting   $10.11  \n",
       "2    West Palm Beach   63.7   Customer Visit  $136.96  \n",
       "3    West Palm Beach    4.3   Meal/Entertain    $9.25  \n",
       "4         Palm Beach    7.1          Meeting   $15.27  \n",
       "..               ...    ...              ...      ...  \n",
       "566           Karchi    4.6          Meeting    $9.89  \n",
       "567           Karchi    0.8   Customer Visit    $1.72  \n",
       "568           Karchi    0.7          Meeting    $1.51  \n",
       "569          Gampaha    6.4   Temporary Site   $13.76  \n",
       "570        Ilukwatta   48.2   Temporary Site  $103.63  \n",
       "\n",
       "[571 rows x 8 columns]"
      ]
     },
     "execution_count": 2,
     "metadata": {},
     "output_type": "execute_result"
    }
   ],
   "source": [
    "#Updated csv file where missing values in 'Purpose' column got deleted.\n",
    "uber_df = pd.read_csv(\"Uber_trips_2016.csv\", low_memory=False)\n",
    "uber_df"
   ]
  },
  {
   "cell_type": "code",
   "execution_count": null,
   "id": "245fdb98",
   "metadata": {},
   "outputs": [],
   "source": [
    "from datetime import datetime"
   ]
  },
  {
   "cell_type": "code",
   "execution_count": null,
   "id": "5dbe5372",
   "metadata": {},
   "outputs": [],
   "source": [
    "uber_df['START_DATE'] = pd.to_datetime(uber_df['START_DATE'], format = '%m/%d/%y %H:%M')\n",
    "uber_df['END_DATE'] = pd.to_datetime(uber_df['END_DATE'], format = '%m/%d/%y %H:%M')\n",
    "\n",
    "uber_df"
   ]
  },
  {
   "cell_type": "code",
   "execution_count": 3,
   "id": "5fb2ecf0",
   "metadata": {},
   "outputs": [
    {
     "ename": "AttributeError",
     "evalue": "'str' object has no attribute 'month'",
     "output_type": "error",
     "traceback": [
      "\u001b[0;31m---------------------------------------------------------------------------\u001b[0m",
      "\u001b[0;31mAttributeError\u001b[0m                            Traceback (most recent call last)",
      "\u001b[0;32m/var/folders/c6/gskt488s6514mmc2cf21bz5c0000gn/T/ipykernel_84509/1197032001.py\u001b[0m in \u001b[0;36m<module>\u001b[0;34m\u001b[0m\n\u001b[0;32m----> 1\u001b[0;31m \u001b[0muber_df\u001b[0m\u001b[0;34m[\u001b[0m\u001b[0;34m'MONTH'\u001b[0m\u001b[0;34m]\u001b[0m \u001b[0;34m=\u001b[0m \u001b[0muber_df\u001b[0m\u001b[0;34m[\u001b[0m\u001b[0;34m'START_DATE'\u001b[0m\u001b[0;34m]\u001b[0m\u001b[0;34m.\u001b[0m\u001b[0mapply\u001b[0m\u001b[0;34m(\u001b[0m\u001b[0;32mlambda\u001b[0m \u001b[0mtime\u001b[0m\u001b[0;34m:\u001b[0m \u001b[0mtime\u001b[0m\u001b[0;34m.\u001b[0m\u001b[0mmonth\u001b[0m\u001b[0;34m)\u001b[0m\u001b[0;34m\u001b[0m\u001b[0;34m\u001b[0m\u001b[0m\n\u001b[0m\u001b[1;32m      2\u001b[0m \u001b[0mmmap\u001b[0m \u001b[0;34m=\u001b[0m \u001b[0;34m{\u001b[0m\u001b[0;36m1\u001b[0m\u001b[0;34m:\u001b[0m\u001b[0;34m'Jan'\u001b[0m\u001b[0;34m,\u001b[0m \u001b[0;36m2\u001b[0m\u001b[0;34m:\u001b[0m\u001b[0;34m'Feb'\u001b[0m\u001b[0;34m,\u001b[0m\u001b[0;36m3\u001b[0m\u001b[0;34m:\u001b[0m\u001b[0;34m'Mar'\u001b[0m\u001b[0;34m,\u001b[0m \u001b[0;36m4\u001b[0m\u001b[0;34m:\u001b[0m\u001b[0;34m'Apr'\u001b[0m\u001b[0;34m,\u001b[0m\u001b[0;36m5\u001b[0m\u001b[0;34m:\u001b[0m\u001b[0;34m'May'\u001b[0m\u001b[0;34m,\u001b[0m\u001b[0;36m6\u001b[0m\u001b[0;34m:\u001b[0m\u001b[0;34m'June'\u001b[0m\u001b[0;34m,\u001b[0m\u001b[0;36m7\u001b[0m\u001b[0;34m:\u001b[0m\u001b[0;34m'July'\u001b[0m\u001b[0;34m,\u001b[0m \u001b[0;36m8\u001b[0m\u001b[0;34m:\u001b[0m\u001b[0;34m'Aug'\u001b[0m\u001b[0;34m,\u001b[0m \u001b[0;36m9\u001b[0m\u001b[0;34m:\u001b[0m\u001b[0;34m'Sep'\u001b[0m\u001b[0;34m,\u001b[0m\u001b[0;36m10\u001b[0m\u001b[0;34m:\u001b[0m\u001b[0;34m'Oct'\u001b[0m\u001b[0;34m,\u001b[0m\u001b[0;36m11\u001b[0m\u001b[0;34m:\u001b[0m\u001b[0;34m'Nov'\u001b[0m\u001b[0;34m,\u001b[0m\u001b[0;36m12\u001b[0m\u001b[0;34m:\u001b[0m\u001b[0;34m'Dec'\u001b[0m\u001b[0;34m}\u001b[0m\u001b[0;34m\u001b[0m\u001b[0;34m\u001b[0m\u001b[0m\n\u001b[1;32m      3\u001b[0m \u001b[0muber_df\u001b[0m\u001b[0;34m[\u001b[0m\u001b[0;34m'MONTH'\u001b[0m\u001b[0;34m]\u001b[0m \u001b[0;34m=\u001b[0m \u001b[0muber_df\u001b[0m\u001b[0;34m[\u001b[0m\u001b[0;34m'MONTH'\u001b[0m\u001b[0;34m]\u001b[0m\u001b[0;34m.\u001b[0m\u001b[0mmap\u001b[0m\u001b[0;34m(\u001b[0m\u001b[0mmmap\u001b[0m\u001b[0;34m)\u001b[0m\u001b[0;34m\u001b[0m\u001b[0;34m\u001b[0m\u001b[0m\n\u001b[1;32m      4\u001b[0m \u001b[0muber_df\u001b[0m\u001b[0;34m[\u001b[0m\u001b[0;34m'MONTH'\u001b[0m\u001b[0;34m]\u001b[0m\u001b[0;34m\u001b[0m\u001b[0;34m\u001b[0m\u001b[0m\n",
      "\u001b[0;32m~/opt/anaconda3/lib/python3.9/site-packages/pandas/core/series.py\u001b[0m in \u001b[0;36mapply\u001b[0;34m(self, func, convert_dtype, args, **kwargs)\u001b[0m\n\u001b[1;32m   4355\u001b[0m         \u001b[0mdtype\u001b[0m\u001b[0;34m:\u001b[0m \u001b[0mfloat64\u001b[0m\u001b[0;34m\u001b[0m\u001b[0;34m\u001b[0m\u001b[0m\n\u001b[1;32m   4356\u001b[0m         \"\"\"\n\u001b[0;32m-> 4357\u001b[0;31m         \u001b[0;32mreturn\u001b[0m \u001b[0mSeriesApply\u001b[0m\u001b[0;34m(\u001b[0m\u001b[0mself\u001b[0m\u001b[0;34m,\u001b[0m \u001b[0mfunc\u001b[0m\u001b[0;34m,\u001b[0m \u001b[0mconvert_dtype\u001b[0m\u001b[0;34m,\u001b[0m \u001b[0margs\u001b[0m\u001b[0;34m,\u001b[0m \u001b[0mkwargs\u001b[0m\u001b[0;34m)\u001b[0m\u001b[0;34m.\u001b[0m\u001b[0mapply\u001b[0m\u001b[0;34m(\u001b[0m\u001b[0;34m)\u001b[0m\u001b[0;34m\u001b[0m\u001b[0;34m\u001b[0m\u001b[0m\n\u001b[0m\u001b[1;32m   4358\u001b[0m \u001b[0;34m\u001b[0m\u001b[0m\n\u001b[1;32m   4359\u001b[0m     def _reduce(\n",
      "\u001b[0;32m~/opt/anaconda3/lib/python3.9/site-packages/pandas/core/apply.py\u001b[0m in \u001b[0;36mapply\u001b[0;34m(self)\u001b[0m\n\u001b[1;32m   1041\u001b[0m             \u001b[0;32mreturn\u001b[0m \u001b[0mself\u001b[0m\u001b[0;34m.\u001b[0m\u001b[0mapply_str\u001b[0m\u001b[0;34m(\u001b[0m\u001b[0;34m)\u001b[0m\u001b[0;34m\u001b[0m\u001b[0;34m\u001b[0m\u001b[0m\n\u001b[1;32m   1042\u001b[0m \u001b[0;34m\u001b[0m\u001b[0m\n\u001b[0;32m-> 1043\u001b[0;31m         \u001b[0;32mreturn\u001b[0m \u001b[0mself\u001b[0m\u001b[0;34m.\u001b[0m\u001b[0mapply_standard\u001b[0m\u001b[0;34m(\u001b[0m\u001b[0;34m)\u001b[0m\u001b[0;34m\u001b[0m\u001b[0;34m\u001b[0m\u001b[0m\n\u001b[0m\u001b[1;32m   1044\u001b[0m \u001b[0;34m\u001b[0m\u001b[0m\n\u001b[1;32m   1045\u001b[0m     \u001b[0;32mdef\u001b[0m \u001b[0magg\u001b[0m\u001b[0;34m(\u001b[0m\u001b[0mself\u001b[0m\u001b[0;34m)\u001b[0m\u001b[0;34m:\u001b[0m\u001b[0;34m\u001b[0m\u001b[0;34m\u001b[0m\u001b[0m\n",
      "\u001b[0;32m~/opt/anaconda3/lib/python3.9/site-packages/pandas/core/apply.py\u001b[0m in \u001b[0;36mapply_standard\u001b[0;34m(self)\u001b[0m\n\u001b[1;32m   1096\u001b[0m                 \u001b[0;31m# List[Union[Callable[..., Any], str]]]]]\"; expected\u001b[0m\u001b[0;34m\u001b[0m\u001b[0;34m\u001b[0m\u001b[0m\n\u001b[1;32m   1097\u001b[0m                 \u001b[0;31m# \"Callable[[Any], Any]\"\u001b[0m\u001b[0;34m\u001b[0m\u001b[0;34m\u001b[0m\u001b[0m\n\u001b[0;32m-> 1098\u001b[0;31m                 mapped = lib.map_infer(\n\u001b[0m\u001b[1;32m   1099\u001b[0m                     \u001b[0mvalues\u001b[0m\u001b[0;34m,\u001b[0m\u001b[0;34m\u001b[0m\u001b[0;34m\u001b[0m\u001b[0m\n\u001b[1;32m   1100\u001b[0m                     \u001b[0mf\u001b[0m\u001b[0;34m,\u001b[0m  \u001b[0;31m# type: ignore[arg-type]\u001b[0m\u001b[0;34m\u001b[0m\u001b[0;34m\u001b[0m\u001b[0m\n",
      "\u001b[0;32m~/opt/anaconda3/lib/python3.9/site-packages/pandas/_libs/lib.pyx\u001b[0m in \u001b[0;36mpandas._libs.lib.map_infer\u001b[0;34m()\u001b[0m\n",
      "\u001b[0;32m/var/folders/c6/gskt488s6514mmc2cf21bz5c0000gn/T/ipykernel_84509/1197032001.py\u001b[0m in \u001b[0;36m<lambda>\u001b[0;34m(time)\u001b[0m\n\u001b[0;32m----> 1\u001b[0;31m \u001b[0muber_df\u001b[0m\u001b[0;34m[\u001b[0m\u001b[0;34m'MONTH'\u001b[0m\u001b[0;34m]\u001b[0m \u001b[0;34m=\u001b[0m \u001b[0muber_df\u001b[0m\u001b[0;34m[\u001b[0m\u001b[0;34m'START_DATE'\u001b[0m\u001b[0;34m]\u001b[0m\u001b[0;34m.\u001b[0m\u001b[0mapply\u001b[0m\u001b[0;34m(\u001b[0m\u001b[0;32mlambda\u001b[0m \u001b[0mtime\u001b[0m\u001b[0;34m:\u001b[0m \u001b[0mtime\u001b[0m\u001b[0;34m.\u001b[0m\u001b[0mmonth\u001b[0m\u001b[0;34m)\u001b[0m\u001b[0;34m\u001b[0m\u001b[0;34m\u001b[0m\u001b[0m\n\u001b[0m\u001b[1;32m      2\u001b[0m \u001b[0mmmap\u001b[0m \u001b[0;34m=\u001b[0m \u001b[0;34m{\u001b[0m\u001b[0;36m1\u001b[0m\u001b[0;34m:\u001b[0m\u001b[0;34m'Jan'\u001b[0m\u001b[0;34m,\u001b[0m \u001b[0;36m2\u001b[0m\u001b[0;34m:\u001b[0m\u001b[0;34m'Feb'\u001b[0m\u001b[0;34m,\u001b[0m\u001b[0;36m3\u001b[0m\u001b[0;34m:\u001b[0m\u001b[0;34m'Mar'\u001b[0m\u001b[0;34m,\u001b[0m \u001b[0;36m4\u001b[0m\u001b[0;34m:\u001b[0m\u001b[0;34m'Apr'\u001b[0m\u001b[0;34m,\u001b[0m\u001b[0;36m5\u001b[0m\u001b[0;34m:\u001b[0m\u001b[0;34m'May'\u001b[0m\u001b[0;34m,\u001b[0m\u001b[0;36m6\u001b[0m\u001b[0;34m:\u001b[0m\u001b[0;34m'June'\u001b[0m\u001b[0;34m,\u001b[0m\u001b[0;36m7\u001b[0m\u001b[0;34m:\u001b[0m\u001b[0;34m'July'\u001b[0m\u001b[0;34m,\u001b[0m \u001b[0;36m8\u001b[0m\u001b[0;34m:\u001b[0m\u001b[0;34m'Aug'\u001b[0m\u001b[0;34m,\u001b[0m \u001b[0;36m9\u001b[0m\u001b[0;34m:\u001b[0m\u001b[0;34m'Sep'\u001b[0m\u001b[0;34m,\u001b[0m\u001b[0;36m10\u001b[0m\u001b[0;34m:\u001b[0m\u001b[0;34m'Oct'\u001b[0m\u001b[0;34m,\u001b[0m\u001b[0;36m11\u001b[0m\u001b[0;34m:\u001b[0m\u001b[0;34m'Nov'\u001b[0m\u001b[0;34m,\u001b[0m\u001b[0;36m12\u001b[0m\u001b[0;34m:\u001b[0m\u001b[0;34m'Dec'\u001b[0m\u001b[0;34m}\u001b[0m\u001b[0;34m\u001b[0m\u001b[0;34m\u001b[0m\u001b[0m\n\u001b[1;32m      3\u001b[0m \u001b[0muber_df\u001b[0m\u001b[0;34m[\u001b[0m\u001b[0;34m'MONTH'\u001b[0m\u001b[0;34m]\u001b[0m \u001b[0;34m=\u001b[0m \u001b[0muber_df\u001b[0m\u001b[0;34m[\u001b[0m\u001b[0;34m'MONTH'\u001b[0m\u001b[0;34m]\u001b[0m\u001b[0;34m.\u001b[0m\u001b[0mmap\u001b[0m\u001b[0;34m(\u001b[0m\u001b[0mmmap\u001b[0m\u001b[0;34m)\u001b[0m\u001b[0;34m\u001b[0m\u001b[0;34m\u001b[0m\u001b[0m\n\u001b[1;32m      4\u001b[0m \u001b[0muber_df\u001b[0m\u001b[0;34m[\u001b[0m\u001b[0;34m'MONTH'\u001b[0m\u001b[0;34m]\u001b[0m\u001b[0;34m\u001b[0m\u001b[0;34m\u001b[0m\u001b[0m\n",
      "\u001b[0;31mAttributeError\u001b[0m: 'str' object has no attribute 'month'"
     ]
    }
   ],
   "source": [
    "uber_df['MONTH'] = uber_df['START_DATE'].apply(lambda time: time.month)\n",
    "mmap = {1:'Jan', 2:'Feb',3:'Mar', 4:'Apr',5:'May',6:'June',7:'July', 8:'Aug', 9:'Sep',10:'Oct',11:'Nov',12:'Dec'}\n",
    "uber_df['MONTH'] = uber_df['MONTH'].map(mmap)\n",
    "uber_df['MONTH']"
   ]
  },
  {
   "cell_type": "code",
   "execution_count": null,
   "id": "934f23a7",
   "metadata": {},
   "outputs": [],
   "source": [
    "uber_df['DAY_OF_THE_WEEK'] = uber_df.START_DATE.dt.weekday\n",
    "day_label = {\n",
    "    1: 'Mon', 2: 'Tues', 3: 'Wed', 4: 'Thus', 5: 'Fri', 6: 'Sat', 7: 'Sun'\n",
    "}\n",
    "uber_df['DAY_OF_THE_WEEK'] = uber_df['DAY_OF_THE_WEEK'].map(day_label)\n",
    "uber_df"
   ]
  },
  {
   "cell_type": "code",
   "execution_count": null,
   "id": "869cf07f",
   "metadata": {},
   "outputs": [],
   "source": [
    "#Calculating duration of each ride\n",
    "uber_df['DURATION'] = uber_df['END_DATE'] - uber_df['START_DATE']\n",
    "uber_df.dtypes"
   ]
  },
  {
   "cell_type": "code",
   "execution_count": null,
   "id": "e8fe30dd",
   "metadata": {},
   "outputs": [],
   "source": [
    "uber_df"
   ]
  },
  {
   "cell_type": "code",
   "execution_count": null,
   "id": "90663c49",
   "metadata": {
    "scrolled": true
   },
   "outputs": [],
   "source": [
    "uber_df.info()"
   ]
  },
  {
   "cell_type": "code",
   "execution_count": null,
   "id": "5daddb31",
   "metadata": {},
   "outputs": [],
   "source": [
    "uber_df.describe()"
   ]
  },
  {
   "cell_type": "code",
   "execution_count": null,
   "id": "f1f054cd",
   "metadata": {
    "scrolled": true
   },
   "outputs": [],
   "source": [
    "uber_df['CATEGORY'].unique()"
   ]
  },
  {
   "cell_type": "code",
   "execution_count": null,
   "id": "ca364a12",
   "metadata": {},
   "outputs": [],
   "source": [
    "sum(uber_df['CATEGORY']=='Business')"
   ]
  },
  {
   "cell_type": "code",
   "execution_count": null,
   "id": "2c928fdf",
   "metadata": {},
   "outputs": [],
   "source": [
    "sum(uber_df['CATEGORY']=='Personal')"
   ]
  },
  {
   "cell_type": "code",
   "execution_count": null,
   "id": "aee26827",
   "metadata": {},
   "outputs": [],
   "source": [
    "uber_total_count = uber_df.groupby(['CATEGORY']).sum()['MILES']\n",
    "uber_total_count"
   ]
  },
  {
   "cell_type": "code",
   "execution_count": null,
   "id": "9f14971a",
   "metadata": {},
   "outputs": [],
   "source": [
    "uber_df['MILES'].sum()"
   ]
  },
  {
   "cell_type": "code",
   "execution_count": null,
   "id": "94c5bf4f",
   "metadata": {},
   "outputs": [],
   "source": [
    "uber_df.dtypes"
   ]
  },
  {
   "cell_type": "code",
   "execution_count": null,
   "id": "bc7832e9",
   "metadata": {},
   "outputs": [],
   "source": [
    "uber_df['SALARY']=pd.to_numeric(uber_df['SALARY'])\n",
    "print(uber_df)"
   ]
  },
  {
   "cell_type": "code",
   "execution_count": null,
   "id": "fd0d058d",
   "metadata": {},
   "outputs": [],
   "source": [
    "uber_df['SALARY'].sum()"
   ]
  },
  {
   "cell_type": "code",
   "execution_count": null,
   "id": "121fc4eb",
   "metadata": {},
   "outputs": [],
   "source": [
    "uber_df['DURATION'].sum()"
   ]
  },
  {
   "cell_type": "code",
   "execution_count": null,
   "id": "7e7e0a62",
   "metadata": {},
   "outputs": [],
   "source": [
    "uber_df['PURPOSE'].unique()"
   ]
  },
  {
   "cell_type": "code",
   "execution_count": null,
   "id": "b1d2819f",
   "metadata": {},
   "outputs": [],
   "source": [
    "uber_ride_count = uber_df.groupby(['PURPOSE']).sum()['MILES']\n",
    "uber_ride_count"
   ]
  },
  {
   "cell_type": "code",
   "execution_count": null,
   "id": "e281de6a",
   "metadata": {
    "scrolled": true
   },
   "outputs": [],
   "source": [
    "purpose_labels = uber_df.PURPOSE.value_counts().nlargest(10)\n",
    "sns.barplot(x=purpose_labels.index, y=purpose_labels);\n",
    "plt.ylabel('Total Rides');\n",
    "plt.xticks(rotation=90);"
   ]
  },
  {
   "cell_type": "code",
   "execution_count": null,
   "id": "04040b72",
   "metadata": {},
   "outputs": [],
   "source": [
    "sns.countplot(x=uber_df['CATEGORY']);"
   ]
  },
  {
   "cell_type": "code",
   "execution_count": null,
   "id": "c76fb26d",
   "metadata": {
    "scrolled": true
   },
   "outputs": [],
   "source": [
    "sns.countplot(x=uber_df['PURPOSE']);\n",
    "plt.ylabel('Total Rides');\n",
    "plt.xticks(rotation=90);"
   ]
  },
  {
   "cell_type": "code",
   "execution_count": null,
   "id": "7452fc38",
   "metadata": {},
   "outputs": [],
   "source": [
    "sns.countplot(x=uber_df['DAY_OF_THE_WEEK']);"
   ]
  },
  {
   "cell_type": "code",
   "execution_count": null,
   "id": "bd66664b",
   "metadata": {},
   "outputs": [],
   "source": [
    "sns.countplot(x=uber_df['MONTH']);"
   ]
  },
  {
   "cell_type": "code",
   "execution_count": null,
   "id": "fece1dbe",
   "metadata": {},
   "outputs": [],
   "source": [
    "uber_df['START_DATE'] = pd.to_datetime(uber_df['START_DATE'], format = '%m/%d/%y %H:%M')\n",
    "uber_df['END_DATE'] = pd.to_datetime(uber_df['END_DATE'], format = '%m/%d/%y %H:%M')\n",
    "\n",
    "uber_df\n",
    "from datetime import datetime"
   ]
  }
 ],
 "metadata": {
  "kernelspec": {
   "display_name": "Python 3 (ipykernel)",
   "language": "python",
   "name": "python3"
  },
  "language_info": {
   "codemirror_mode": {
    "name": "ipython",
    "version": 3
   },
   "file_extension": ".py",
   "mimetype": "text/x-python",
   "name": "python",
   "nbconvert_exporter": "python",
   "pygments_lexer": "ipython3",
   "version": "3.9.7"
  }
 },
 "nbformat": 4,
 "nbformat_minor": 5
}
